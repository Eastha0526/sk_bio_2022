{
  "cells": [
    {
      "cell_type": "markdown",
      "source": [
        "# Data Download"
      ],
      "metadata": {
        "nteract": {
          "transient": {
            "deleting": false
          }
        }
      }
    },
    {
      "cell_type": "code",
      "source": [
        "# azureml-core of version 1.0.72 or higher is required\n",
        "from azureml.core import Workspace, Dataset\n",
        "\n",
        "subscription_id = '79c05eac-dadd-4fc9-be16-acdb5c068bb9'\n",
        "resource_group = 'skh-ml-rg003'\n",
        "workspace_name = 'SKH-ML-WS003'\n",
        "\n",
        "workspace = Workspace(subscription_id, resource_group, workspace_name)\n",
        "\n",
        "dataset = Dataset.get_by_name(workspace, name='re_data_1')\n",
        "dataset.download(target_path='.', overwrite=False)"
      ],
      "outputs": [],
      "execution_count": null,
      "metadata": {
        "jupyter": {
          "source_hidden": false,
          "outputs_hidden": false
        },
        "nteract": {
          "transient": {
            "deleting": false
          }
        },
        "gather": {
          "logged": 1667128878298
        }
      }
    },
    {
      "cell_type": "markdown",
      "source": [
        "# Libaray import"
      ],
      "metadata": {
        "nteract": {
          "transient": {
            "deleting": false
          }
        }
      }
    },
    {
      "cell_type": "code",
      "source": [
        "import pandas as pd\r\n",
        "import numpy as np\r\n",
        "import matplotlib.pyplot as plt\r\n",
        "import seaborn as sns\r\n",
        "import warnings\r\n",
        "from tensorflow import keras\r\n",
        "from sklearn.model_selection import train_test_split, GridSearchCV, RandomizedSearchCV\r\n",
        "from sklearn.semi_supervised import LabelSpreading\r\n",
        "from sklearn.preprocessing import StandardScaler\r\n",
        "from sklearn.ensemble import RandomForestClassifier\r\n",
        "from sklearn.metrics import roc_auc_score, accuracy_score, classification_report\r\n",
        "from imblearn.over_sampling import SMOTE\r\n",
        "from scipy.stats import randint, uniform\r\n",
        "\r\n",
        "warnings.filterwarnings(\"ignore\")\r\n",
        "pd.options.display.float_format = '{:.5f}'.format"
      ],
      "outputs": [],
      "execution_count": 72,
      "metadata": {
        "jupyter": {
          "source_hidden": false,
          "outputs_hidden": false
        },
        "nteract": {
          "transient": {
            "deleting": false
          }
        },
        "gather": {
          "logged": 1667128888453
        }
      }
    },
    {
      "cell_type": "code",
      "source": [
        "!sudo apt-get install -y fonts-nanum\n",
        "!sudo fc-cache -fv\n",
        "!rm ~/.cache/matplotlib -rf"
      ],
      "outputs": [
        {
          "output_type": "stream",
          "name": "stdout",
          "text": "Reading package lists... Done\nBuilding dependency tree       \nReading state information... Done\nfonts-nanum is already the newest version (20180306-3).\nThe following packages were automatically installed and are no longer required:\n  ca-certificates-java cmake-data cuda-command-line-tools-11-3\n  cuda-compiler-11-3 cuda-cudart-11-3 cuda-cudart-dev-11-3 cuda-cuobjdump-11-3\n  cuda-cupti-11-3 cuda-cupti-dev-11-3 cuda-cuxxfilt-11-3\n  cuda-documentation-11-3 cuda-driver-dev-11-3 cuda-gdb-11-3\n  cuda-libraries-11-3 cuda-libraries-dev-11-3 cuda-memcheck-11-3\n  cuda-nsight-11-3 cuda-nsight-compute-11-3 cuda-nsight-systems-11-3\n  cuda-nvcc-11-3 cuda-nvdisasm-11-3 cuda-nvml-dev-11-3 cuda-nvprof-11-3\n  cuda-nvprune-11-3 cuda-nvrtc-11-3 cuda-nvrtc-dev-11-3 cuda-nvtx-11-3\n  cuda-nvvp-11-3 cuda-samples-11-3 cuda-sanitizer-11-3 cuda-thrust-11-3\n  cuda-toolkit-11-3 cuda-toolkit-11-3-config-common\n  cuda-toolkit-11-config-common cuda-toolkit-config-common cuda-tools-11-3\n  cuda-visual-tools-11-3 default-jre default-jre-headless fonts-dejavu-extra\n  java-common libatk-wrapper-java libatk-wrapper-java-jni libcublas-11-3\n  libcublas-dev-11-3 libcufft-11-3 libcufft-dev-11-3 libcurand-11-3\n  libcurand-dev-11-3 libcusolver-11-3 libcusolver-dev-11-3 libcusparse-11-3\n  libcusparse-dev-11-3 libjsoncpp1 libnpp-11-3 libnpp-dev-11-3\n  libnvidia-common-515 libnvjpeg-11-3 libnvjpeg-dev-11-3 libpcsclite1\n  librhash0 nsight-compute-2021.1.1 nsight-systems-2021.1.3 openjdk-11-jre\n  openjdk-11-jre-headless\nUse 'sudo apt autoremove' to remove them.\n0 upgraded, 0 newly installed, 0 to remove and 118 not upgraded.\n/usr/share/fonts: caching, new cache contents: 0 fonts, 8 dirs\n/usr/share/fonts/cMap: caching, new cache contents: 0 fonts, 0 dirs\n/usr/share/fonts/cmap: caching, new cache contents: 0 fonts, 5 dirs\n/usr/share/fonts/cmap/adobe-cns1: caching, new cache contents: 0 fonts, 0 dirs\n/usr/share/fonts/cmap/adobe-gb1: caching, new cache contents: 0 fonts, 0 dirs\n/usr/share/fonts/cmap/adobe-japan1: caching, new cache contents: 0 fonts, 0 dirs\n/usr/share/fonts/cmap/adobe-japan2: caching, new cache contents: 0 fonts, 0 dirs\n/usr/share/fonts/cmap/adobe-korea1: caching, new cache contents: 0 fonts, 0 dirs\n/usr/share/fonts/eot: caching, new cache contents: 0 fonts, 1 dirs\n/usr/share/fonts/eot/font-awesome: caching, new cache contents: 0 fonts, 0 dirs\n/usr/share/fonts/opentype: caching, new cache contents: 0 fonts, 3 dirs\n/usr/share/fonts/opentype/font-awesome: caching, new cache contents: 1 fonts, 0 dirs\n/usr/share/fonts/opentype/mathjax: caching, new cache contents: 24 fonts, 0 dirs\n/usr/share/fonts/opentype/urw-base35: caching, new cache contents: 35 fonts, 0 dirs\n/usr/share/fonts/svg: caching, new cache contents: 0 fonts, 1 dirs\n/usr/share/fonts/svg/font-awesome: caching, new cache contents: 0 fonts, 0 dirs\n/usr/share/fonts/truetype: caching, new cache contents: 0 fonts, 6 dirs\n/usr/share/fonts/truetype/dejavu: caching, new cache contents: 22 fonts, 0 dirs\n/usr/share/fonts/truetype/droid: caching, new cache contents: 1 fonts, 0 dirs\n/usr/share/fonts/truetype/font-awesome: caching, new cache contents: 1 fonts, 0 dirs\n/usr/share/fonts/truetype/glyphicons: caching, new cache contents: 1 fonts, 0 dirs\n/usr/share/fonts/truetype/nanum: caching, new cache contents: 10 fonts, 0 dirs\n/usr/share/fonts/truetype/noto: caching, new cache contents: 1 fonts, 0 dirs\n/usr/share/fonts/type1: caching, new cache contents: 0 fonts, 2 dirs\n/usr/share/fonts/type1/gsfonts: caching, new cache contents: 35 fonts, 0 dirs\n/usr/share/fonts/type1/urw-base35: caching, new cache contents: 35 fonts, 0 dirs\n/usr/share/fonts/woff: caching, new cache contents: 0 fonts, 1 dirs\n/usr/share/fonts/woff/font-awesome: caching, new cache contents: 1 fonts, 0 dirs\n/usr/local/share/fonts: caching, new cache contents: 0 fonts, 0 dirs\n/root/.local/share/fonts: skipping, no such directory\n/root/.fonts: skipping, no such directory\n/usr/share/fonts/cMap: skipping, looped directory detected\n/usr/share/fonts/cmap: skipping, looped directory detected\n/usr/share/fonts/eot: skipping, looped directory detected\n/usr/share/fonts/opentype: skipping, looped directory detected\n/usr/share/fonts/svg: skipping, looped directory detected\n/usr/share/fonts/truetype: skipping, looped directory detected\n/usr/share/fonts/type1: skipping, looped directory detected\n/usr/share/fonts/woff: skipping, looped directory detected\n/usr/share/fonts/cmap/adobe-cns1: skipping, looped directory detected\n/usr/share/fonts/cmap/adobe-gb1: skipping, looped directory detected\n/usr/share/fonts/cmap/adobe-japan1: skipping, looped directory detected\n/usr/share/fonts/cmap/adobe-japan2: skipping, looped directory detected\n/usr/share/fonts/cmap/adobe-korea1: skipping, looped directory detected\n/usr/share/fonts/eot/font-awesome: skipping, looped directory detected\n/usr/share/fonts/opentype/font-awesome: skipping, looped directory detected\n/usr/share/fonts/opentype/mathjax: skipping, looped directory detected\n/usr/share/fonts/opentype/urw-base35: skipping, looped directory detected\n/usr/share/fonts/svg/font-awesome: skipping, looped directory detected\n/usr/share/fonts/truetype/dejavu: skipping, looped directory detected\n/usr/share/fonts/truetype/droid: skipping, looped directory detected\n/usr/share/fonts/truetype/font-awesome: skipping, looped directory detected\n/usr/share/fonts/truetype/glyphicons: skipping, looped directory detected\n/usr/share/fonts/truetype/nanum: skipping, looped directory detected\n/usr/share/fonts/truetype/noto: skipping, looped directory detected\n/usr/share/fonts/type1/gsfonts: skipping, looped directory detected\n/usr/share/fonts/type1/urw-base35: skipping, looped directory detected\n/usr/share/fonts/woff/font-awesome: skipping, looped directory detected\n/var/cache/fontconfig: cleaning cache directory\n/root/.cache/fontconfig: not cleaning non-existent cache directory\n/root/.fontconfig: not cleaning non-existent cache directory\nfc-cache: succeeded\n"
        }
      ],
      "execution_count": 73,
      "metadata": {
        "jupyter": {
          "source_hidden": false,
          "outputs_hidden": false
        },
        "nteract": {
          "transient": {
            "deleting": false
          }
        }
      }
    },
    {
      "cell_type": "code",
      "source": [
        "plt.rc('font', family='NanumBarunGothic')\n",
        "\n",
        "plt.style.use(\"seaborn\")\n",
        "sns.set(font=\"NanumBarunGothic\", \n",
        "rc={\"axes.unicode_minus\":False}, style='white')\n",
        "%config InlineBackend.figure_format = 'retina'"
      ],
      "outputs": [],
      "execution_count": 74,
      "metadata": {
        "jupyter": {
          "source_hidden": false,
          "outputs_hidden": false
        },
        "nteract": {
          "transient": {
            "deleting": false
          }
        },
        "gather": {
          "logged": 1667128906447
        }
      }
    },
    {
      "cell_type": "markdown",
      "source": [
        "# Data Load\n",
        "\n",
        "1980년부터 2018년까지 평균 기온, 자외선, 이산화 탄소량 등이 기록된 데이터이다."
      ],
      "metadata": {
        "nteract": {
          "transient": {
            "deleting": false
          }
        }
      }
    },
    {
      "cell_type": "code",
      "source": [
        "climate_df = pd.read_csv(\"/mnt/batch/tasks/shared/LS_root/mounts/clusters/skh-ml-vm003/code/Users/SKH-ML-GRP003-USR001/생물다양성 변수_수정.csv\",\n",
        "            encoding = \"euc-kr\")"
      ],
      "outputs": [],
      "execution_count": 137,
      "metadata": {
        "jupyter": {
          "source_hidden": false,
          "outputs_hidden": false
        },
        "nteract": {
          "transient": {
            "deleting": false
          }
        },
        "gather": {
          "logged": 1667135752358
        }
      }
    },
    {
      "cell_type": "code",
      "source": [
        "# 데이터의 첫 5행\r\n",
        "climate_df.head()"
      ],
      "outputs": [
        {
          "output_type": "execute_result",
          "execution_count": 138,
          "data": {
            "text/plain": "        관측일자         coal  Natural gas     Nuclear      Hydro  Wind,solar,etc  \\\n0  1981.7.21 850201.60000      0.00000 28847.45000 2290.00000      1260.00000   \n1  1981.7.22          nan          nan         nan        nan             nan   \n2  1981.7.24          nan          nan         nan        nan             nan   \n3  1981.9.30          nan          nan         nan        nan             nan   \n4  1981.10.1          nan          nan         nan        nan             nan   \n\n     Biofuels           Oil  관측개체수     평균기온  일최대 자외선 B(W/m2 ) __ B(W/m2 )  \\\n0 11221.00000 1041137.50000     18 25.70000                           nan   \n1         nan           nan     21 26.50000                           nan   \n2         nan           nan     13 27.90000                           nan   \n3         nan           nan     17 17.70000                           nan   \n4         nan           nan     59 17.70000                           nan   \n\n   평균풍속(m/s)  평균 이산화탄소(CO2) 배경대기농도(ppm)  평균 지표오존(O₃) 농도(ppb)  \\\n0    3.00000                        nan                  nan   \n1    2.70000                        nan                  nan   \n2    2.10000                        nan                  nan   \n3    1.70000                        nan                  nan   \n4    2.20000                        nan                  nan   \n\n   평균 이산화황(SO₂) 농도(ppb)  평균 질소산화물(NOｘ) 농도(ppb)  평균 일산화탄소(CO) 농도(ppb)  \\\n0                   nan                    nan                   nan   \n1                   nan                    nan                   nan   \n2                   nan                    nan                   nan   \n3                   nan                    nan                   nan   \n4                   nan                    nan                   nan   \n\n   합계 강수량(mm)  \n0         nan  \n1         nan  \n2         nan  \n3         nan  \n4         nan  ",
            "text/html": "<div>\n<style scoped>\n    .dataframe tbody tr th:only-of-type {\n        vertical-align: middle;\n    }\n\n    .dataframe tbody tr th {\n        vertical-align: top;\n    }\n\n    .dataframe thead th {\n        text-align: right;\n    }\n</style>\n<table border=\"1\" class=\"dataframe\">\n  <thead>\n    <tr style=\"text-align: right;\">\n      <th></th>\n      <th>관측일자</th>\n      <th>coal</th>\n      <th>Natural gas</th>\n      <th>Nuclear</th>\n      <th>Hydro</th>\n      <th>Wind,solar,etc</th>\n      <th>Biofuels</th>\n      <th>Oil</th>\n      <th>관측개체수</th>\n      <th>평균기온</th>\n      <th>일최대 자외선 B(W/m2 ) __ B(W/m2 )</th>\n      <th>평균풍속(m/s)</th>\n      <th>평균 이산화탄소(CO2) 배경대기농도(ppm)</th>\n      <th>평균 지표오존(O₃) 농도(ppb)</th>\n      <th>평균 이산화황(SO₂) 농도(ppb)</th>\n      <th>평균 질소산화물(NOｘ) 농도(ppb)</th>\n      <th>평균 일산화탄소(CO) 농도(ppb)</th>\n      <th>합계 강수량(mm)</th>\n    </tr>\n  </thead>\n  <tbody>\n    <tr>\n      <th>0</th>\n      <td>1981.7.21</td>\n      <td>850201.60000</td>\n      <td>0.00000</td>\n      <td>28847.45000</td>\n      <td>2290.00000</td>\n      <td>1260.00000</td>\n      <td>11221.00000</td>\n      <td>1041137.50000</td>\n      <td>18</td>\n      <td>25.70000</td>\n      <td>nan</td>\n      <td>3.00000</td>\n      <td>nan</td>\n      <td>nan</td>\n      <td>nan</td>\n      <td>nan</td>\n      <td>nan</td>\n      <td>nan</td>\n    </tr>\n    <tr>\n      <th>1</th>\n      <td>1981.7.22</td>\n      <td>nan</td>\n      <td>nan</td>\n      <td>nan</td>\n      <td>nan</td>\n      <td>nan</td>\n      <td>nan</td>\n      <td>nan</td>\n      <td>21</td>\n      <td>26.50000</td>\n      <td>nan</td>\n      <td>2.70000</td>\n      <td>nan</td>\n      <td>nan</td>\n      <td>nan</td>\n      <td>nan</td>\n      <td>nan</td>\n      <td>nan</td>\n    </tr>\n    <tr>\n      <th>2</th>\n      <td>1981.7.24</td>\n      <td>nan</td>\n      <td>nan</td>\n      <td>nan</td>\n      <td>nan</td>\n      <td>nan</td>\n      <td>nan</td>\n      <td>nan</td>\n      <td>13</td>\n      <td>27.90000</td>\n      <td>nan</td>\n      <td>2.10000</td>\n      <td>nan</td>\n      <td>nan</td>\n      <td>nan</td>\n      <td>nan</td>\n      <td>nan</td>\n      <td>nan</td>\n    </tr>\n    <tr>\n      <th>3</th>\n      <td>1981.9.30</td>\n      <td>nan</td>\n      <td>nan</td>\n      <td>nan</td>\n      <td>nan</td>\n      <td>nan</td>\n      <td>nan</td>\n      <td>nan</td>\n      <td>17</td>\n      <td>17.70000</td>\n      <td>nan</td>\n      <td>1.70000</td>\n      <td>nan</td>\n      <td>nan</td>\n      <td>nan</td>\n      <td>nan</td>\n      <td>nan</td>\n      <td>nan</td>\n    </tr>\n    <tr>\n      <th>4</th>\n      <td>1981.10.1</td>\n      <td>nan</td>\n      <td>nan</td>\n      <td>nan</td>\n      <td>nan</td>\n      <td>nan</td>\n      <td>nan</td>\n      <td>nan</td>\n      <td>59</td>\n      <td>17.70000</td>\n      <td>nan</td>\n      <td>2.20000</td>\n      <td>nan</td>\n      <td>nan</td>\n      <td>nan</td>\n      <td>nan</td>\n      <td>nan</td>\n      <td>nan</td>\n    </tr>\n  </tbody>\n</table>\n</div>"
          },
          "metadata": {}
        }
      ],
      "execution_count": 138,
      "metadata": {
        "jupyter": {
          "source_hidden": false,
          "outputs_hidden": false
        },
        "nteract": {
          "transient": {
            "deleting": false
          }
        },
        "gather": {
          "logged": 1667135753494
        }
      }
    },
    {
      "cell_type": "code",
      "source": [
        "# 데이터의 요약통계량량\r\n",
        "climate_df.info()"
      ],
      "outputs": [
        {
          "output_type": "stream",
          "name": "stdout",
          "text": "<class 'pandas.core.frame.DataFrame'>\nRangeIndex: 1706 entries, 0 to 1705\nData columns (total 18 columns):\n #   Column                        Non-Null Count  Dtype  \n---  ------                        --------------  -----  \n 0   관측일자                          1706 non-null   object \n 1   coal                          17 non-null     float64\n 2   Natural gas                   17 non-null     float64\n 3   Nuclear                       17 non-null     float64\n 4   Hydro                         17 non-null     float64\n 5   Wind,solar,etc                17 non-null     float64\n 6   Biofuels                      17 non-null     float64\n 7   Oil                           17 non-null     float64\n 8   관측개체수                         1706 non-null   int64  \n 9   평균기온                          1706 non-null   float64\n 10  일최대 자외선 B(W/m2 ) __ B(W/m2 )  1159 non-null   float64\n 11  평균풍속(m/s)                     1706 non-null   float64\n 12  평균 이산화탄소(CO2) 배경대기농도(ppm)     1161 non-null   float64\n 13  평균 지표오존(O₃) 농도(ppb)           1146 non-null   float64\n 14  평균 이산화황(SO₂) 농도(ppb)          1146 non-null   float64\n 15  평균 질소산화물(NOｘ) 농도(ppb)         1146 non-null   float64\n 16  평균 일산화탄소(CO) 농도(ppb)          1146 non-null   float64\n 17  합계 강수량(mm)                    1346 non-null   float64\ndtypes: float64(16), int64(1), object(1)\nmemory usage: 240.0+ KB\n"
        }
      ],
      "execution_count": 139,
      "metadata": {
        "jupyter": {
          "source_hidden": false,
          "outputs_hidden": false
        },
        "nteract": {
          "transient": {
            "deleting": false
          }
        },
        "gather": {
          "logged": 1667135759447
        }
      }
    },
    {
      "cell_type": "code",
      "source": [
        "# 데이터의 기술통계량량\r\n",
        "climate_df.describe()"
      ],
      "outputs": [
        {
          "output_type": "execute_result",
          "execution_count": 140,
          "data": {
            "text/plain": "               coal   Natural gas       Nuclear       Hydro  Wind,solar,etc  \\\ncount      17.00000      17.00000      17.00000    17.00000        17.00000   \nmean  1932342.56471  851279.00000 1031203.67353 11287.82353     17305.52941   \nstd   1126501.77513  773654.51677  529200.41767  4332.53503     25209.95525   \nmin    850201.60000       0.00000   28847.45000  2290.00000       420.00000   \n25%   1062752.00000  216680.00000  634233.00000  9907.00000       716.00000   \n50%   1332977.00000  522995.00000  840938.00000 10152.00000      1803.00000   \n75%   3372296.00000 1729700.00000 1591742.00000 12550.00000     31700.00000   \nmax   3458248.00000 2046086.00000 1797404.00000 22900.00000     77628.00000   \n\n          Biofuels           Oil      관측개체수       평균기온  \\\ncount     17.00000      17.00000 1706.00000 1706.00000   \nmean  116777.11765 3615503.32353  163.41032   16.15246   \nstd   118482.49247 1009913.26984  216.81579    9.69139   \nmin    11221.00000 1041137.50000    1.00000   -9.70000   \n25%    30591.00000 3267696.00000   25.00000    9.12500   \n50%    40582.00000 3972553.00000   76.50000   18.60000   \n75%   246107.00000 4372399.00000  215.75000   23.80000   \nmax   301039.00000 4620328.00000 2118.00000   33.60000   \n\n       일최대 자외선 B(W/m2 ) __ B(W/m2 )  평균풍속(m/s)  평균 이산화탄소(CO2) 배경대기농도(ppm)  \\\ncount                    1159.00000 1706.00000                 1161.00000   \nmean                        0.15213    2.24862                  409.30233   \nstd                         0.05781    0.83508                    9.45069   \nmin                         0.01300    0.10000                  368.43000   \n25%                         0.11000    1.70000                  403.86000   \n50%                         0.15600    2.10000                  410.47000   \n75%                         0.19500    2.70000                  415.85000   \nmax                         0.31200    6.50000                  434.60000   \n\n       평균 지표오존(O₃) 농도(ppb)  평균 이산화황(SO₂) 농도(ppb)  평균 질소산화물(NOｘ) 농도(ppb)  \\\ncount           1146.00000            1146.00000             1146.00000   \nmean              44.79756               1.69974                6.01728   \nstd               14.83383               1.26866                3.52777   \nmin                3.40000               0.10000                0.10000   \n25%               34.40000               0.80000                3.50000   \n50%               45.20000               1.40000                5.40000   \n75%               54.30000               2.20000                7.80000   \nmax              100.80000              12.50000               38.20000   \n\n       평균 일산화탄소(CO) 농도(ppb)  합계 강수량(mm)  \ncount            1146.00000  1346.00000  \nmean              255.88874    14.42689  \nstd               120.12151    17.77562  \nmin                46.80000     0.70000  \n25%               181.40000     2.50000  \n50%               241.20000     8.00000  \n75%               308.00000    22.00000  \nmax              1042.00000   131.00000  ",
            "text/html": "<div>\n<style scoped>\n    .dataframe tbody tr th:only-of-type {\n        vertical-align: middle;\n    }\n\n    .dataframe tbody tr th {\n        vertical-align: top;\n    }\n\n    .dataframe thead th {\n        text-align: right;\n    }\n</style>\n<table border=\"1\" class=\"dataframe\">\n  <thead>\n    <tr style=\"text-align: right;\">\n      <th></th>\n      <th>coal</th>\n      <th>Natural gas</th>\n      <th>Nuclear</th>\n      <th>Hydro</th>\n      <th>Wind,solar,etc</th>\n      <th>Biofuels</th>\n      <th>Oil</th>\n      <th>관측개체수</th>\n      <th>평균기온</th>\n      <th>일최대 자외선 B(W/m2 ) __ B(W/m2 )</th>\n      <th>평균풍속(m/s)</th>\n      <th>평균 이산화탄소(CO2) 배경대기농도(ppm)</th>\n      <th>평균 지표오존(O₃) 농도(ppb)</th>\n      <th>평균 이산화황(SO₂) 농도(ppb)</th>\n      <th>평균 질소산화물(NOｘ) 농도(ppb)</th>\n      <th>평균 일산화탄소(CO) 농도(ppb)</th>\n      <th>합계 강수량(mm)</th>\n    </tr>\n  </thead>\n  <tbody>\n    <tr>\n      <th>count</th>\n      <td>17.00000</td>\n      <td>17.00000</td>\n      <td>17.00000</td>\n      <td>17.00000</td>\n      <td>17.00000</td>\n      <td>17.00000</td>\n      <td>17.00000</td>\n      <td>1706.00000</td>\n      <td>1706.00000</td>\n      <td>1159.00000</td>\n      <td>1706.00000</td>\n      <td>1161.00000</td>\n      <td>1146.00000</td>\n      <td>1146.00000</td>\n      <td>1146.00000</td>\n      <td>1146.00000</td>\n      <td>1346.00000</td>\n    </tr>\n    <tr>\n      <th>mean</th>\n      <td>1932342.56471</td>\n      <td>851279.00000</td>\n      <td>1031203.67353</td>\n      <td>11287.82353</td>\n      <td>17305.52941</td>\n      <td>116777.11765</td>\n      <td>3615503.32353</td>\n      <td>163.41032</td>\n      <td>16.15246</td>\n      <td>0.15213</td>\n      <td>2.24862</td>\n      <td>409.30233</td>\n      <td>44.79756</td>\n      <td>1.69974</td>\n      <td>6.01728</td>\n      <td>255.88874</td>\n      <td>14.42689</td>\n    </tr>\n    <tr>\n      <th>std</th>\n      <td>1126501.77513</td>\n      <td>773654.51677</td>\n      <td>529200.41767</td>\n      <td>4332.53503</td>\n      <td>25209.95525</td>\n      <td>118482.49247</td>\n      <td>1009913.26984</td>\n      <td>216.81579</td>\n      <td>9.69139</td>\n      <td>0.05781</td>\n      <td>0.83508</td>\n      <td>9.45069</td>\n      <td>14.83383</td>\n      <td>1.26866</td>\n      <td>3.52777</td>\n      <td>120.12151</td>\n      <td>17.77562</td>\n    </tr>\n    <tr>\n      <th>min</th>\n      <td>850201.60000</td>\n      <td>0.00000</td>\n      <td>28847.45000</td>\n      <td>2290.00000</td>\n      <td>420.00000</td>\n      <td>11221.00000</td>\n      <td>1041137.50000</td>\n      <td>1.00000</td>\n      <td>-9.70000</td>\n      <td>0.01300</td>\n      <td>0.10000</td>\n      <td>368.43000</td>\n      <td>3.40000</td>\n      <td>0.10000</td>\n      <td>0.10000</td>\n      <td>46.80000</td>\n      <td>0.70000</td>\n    </tr>\n    <tr>\n      <th>25%</th>\n      <td>1062752.00000</td>\n      <td>216680.00000</td>\n      <td>634233.00000</td>\n      <td>9907.00000</td>\n      <td>716.00000</td>\n      <td>30591.00000</td>\n      <td>3267696.00000</td>\n      <td>25.00000</td>\n      <td>9.12500</td>\n      <td>0.11000</td>\n      <td>1.70000</td>\n      <td>403.86000</td>\n      <td>34.40000</td>\n      <td>0.80000</td>\n      <td>3.50000</td>\n      <td>181.40000</td>\n      <td>2.50000</td>\n    </tr>\n    <tr>\n      <th>50%</th>\n      <td>1332977.00000</td>\n      <td>522995.00000</td>\n      <td>840938.00000</td>\n      <td>10152.00000</td>\n      <td>1803.00000</td>\n      <td>40582.00000</td>\n      <td>3972553.00000</td>\n      <td>76.50000</td>\n      <td>18.60000</td>\n      <td>0.15600</td>\n      <td>2.10000</td>\n      <td>410.47000</td>\n      <td>45.20000</td>\n      <td>1.40000</td>\n      <td>5.40000</td>\n      <td>241.20000</td>\n      <td>8.00000</td>\n    </tr>\n    <tr>\n      <th>75%</th>\n      <td>3372296.00000</td>\n      <td>1729700.00000</td>\n      <td>1591742.00000</td>\n      <td>12550.00000</td>\n      <td>31700.00000</td>\n      <td>246107.00000</td>\n      <td>4372399.00000</td>\n      <td>215.75000</td>\n      <td>23.80000</td>\n      <td>0.19500</td>\n      <td>2.70000</td>\n      <td>415.85000</td>\n      <td>54.30000</td>\n      <td>2.20000</td>\n      <td>7.80000</td>\n      <td>308.00000</td>\n      <td>22.00000</td>\n    </tr>\n    <tr>\n      <th>max</th>\n      <td>3458248.00000</td>\n      <td>2046086.00000</td>\n      <td>1797404.00000</td>\n      <td>22900.00000</td>\n      <td>77628.00000</td>\n      <td>301039.00000</td>\n      <td>4620328.00000</td>\n      <td>2118.00000</td>\n      <td>33.60000</td>\n      <td>0.31200</td>\n      <td>6.50000</td>\n      <td>434.60000</td>\n      <td>100.80000</td>\n      <td>12.50000</td>\n      <td>38.20000</td>\n      <td>1042.00000</td>\n      <td>131.00000</td>\n    </tr>\n  </tbody>\n</table>\n</div>"
          },
          "metadata": {}
        }
      ],
      "execution_count": 140,
      "metadata": {
        "jupyter": {
          "source_hidden": false,
          "outputs_hidden": false
        },
        "nteract": {
          "transient": {
            "deleting": false
          }
        },
        "gather": {
          "logged": 1667135840495
        }
      }
    },
    {
      "cell_type": "markdown",
      "source": [
        "# Prepropessing"
      ],
      "metadata": {
        "nteract": {
          "transient": {
            "deleting": false
          }
        }
      }
    },
    {
      "cell_type": "code",
      "source": [
        "# 사용하지 않을 특성 제거\n",
        "climate_df.drop(['coal', 'Natural gas', 'Nuclear', 'Hydro', 'Wind,solar,etc',\n",
        "       'Biofuels', 'Oil', '관측개체수'], axis = 1, inplace= True)"
      ],
      "outputs": [],
      "execution_count": 76,
      "metadata": {
        "jupyter": {
          "source_hidden": false,
          "outputs_hidden": false
        },
        "nteract": {
          "transient": {
            "deleting": false
          }
        },
        "gather": {
          "logged": 1667128911412
        }
      }
    },
    {
      "cell_type": "code",
      "source": [
        "# object type인 날짜를 datetime type으로 변환\n",
        "climate_df[\"관측일자\"] = pd.to_datetime(climate_df[\"관측일자\"])"
      ],
      "outputs": [],
      "execution_count": 77,
      "metadata": {
        "jupyter": {
          "source_hidden": false,
          "outputs_hidden": false
        },
        "nteract": {
          "transient": {
            "deleting": false
          }
        },
        "gather": {
          "logged": 1667128912409
        }
      }
    },
    {
      "cell_type": "markdown",
      "source": [
        "## 결측치 처리"
      ],
      "metadata": {
        "nteract": {
          "transient": {
            "deleting": false
          }
        }
      }
    },
    {
      "cell_type": "code",
      "source": [
        "mean_li = list() # 데이터로 월별 평균을 구하여 리스트에 저장\n",
        "\n",
        "for i in range(1, 13, 1):\n",
        "    # 1월부터 12월까지 반복\n",
        "    month_dict = dict()\n",
        "    query_month = i\n",
        "    filtered3 = climate_df.query('관측일자.dt.month == @query_month')\n",
        "    # query구문을 통하여 월별로 필터링\n",
        "    for col in filtered3:\n",
        "        # 각 컬럼별 평균을 구해 월별 딕셔너리에 저장\n",
        "        month_dict[col] = filtered3[col].mean()\n",
        "    # 각 월별 딕셔너리를 평균리스트에 추가\n",
        "    mean_li.append(month_dict)"
      ],
      "outputs": [],
      "execution_count": 78,
      "metadata": {
        "jupyter": {
          "source_hidden": false,
          "outputs_hidden": false
        },
        "nteract": {
          "transient": {
            "deleting": false
          }
        },
        "gather": {
          "logged": 1667128914529
        }
      }
    },
    {
      "cell_type": "code",
      "source": [
        "# 새로운 데이터 프레임을 추가\n",
        "res = pd.DataFrame()\n",
        "for i in range(1, 13, 1):\n",
        "    # 1월부터 12월까지 반복\n",
        "    query_month = i\n",
        "    filtered = climate_df.query('관측일자.dt.month == @query_month')\n",
        "    for col in filtered:\n",
        "        # 결측치를 평균 값으로 대치\n",
        "        filtered[col].fillna(mean_li[i-1][col], inplace = True)\n",
        "    # 새로운 데이터 프레임에 병합하면서 모든 데이터를 재구성\n",
        "    res = pd.concat([res, filtered])"
      ],
      "outputs": [],
      "execution_count": 79,
      "metadata": {
        "jupyter": {
          "source_hidden": false,
          "outputs_hidden": false
        },
        "nteract": {
          "transient": {
            "deleting": false
          }
        },
        "gather": {
          "logged": 1667128917335
        }
      }
    },
    {
      "cell_type": "code",
      "source": [
        "# 관측일자가 기록되어 있지 않은 결측치 제거\n",
        "res.dropna(inplace = True)\n",
        "# 날짜별로 재정렬렬\n",
        "res = res.sort_values(\"관측일자\")"
      ],
      "outputs": [],
      "execution_count": 80,
      "metadata": {
        "jupyter": {
          "source_hidden": false,
          "outputs_hidden": false
        },
        "nteract": {
          "transient": {
            "deleting": false
          }
        },
        "gather": {
          "logged": 1667128918510
        }
      }
    },
    {
      "cell_type": "markdown",
      "source": [
        "## Labeling\n",
        "\n",
        "1990년 이전 데이터는 0(철새인 환경), 2017년 이후 데이터는 1(텃새화가 된 환경)으로 라벨링을 해준다."
      ],
      "metadata": {
        "nteract": {
          "transient": {
            "deleting": false
          }
        }
      }
    },
    {
      "cell_type": "code",
      "source": [
        "# 라벨링을 할 칼럼을 Na 값으로 초기화화\n",
        "res[\"label\"] = np.NaN\n",
        "# 90년대 이전은 0, 17년도 이후는 1로 부여\n",
        "series_1 = res[res[\"관측일자\"] <= \"1990\"][\"label\"].apply(lambda x: 0)\n",
        "series_2 = res[res[\"관측일자\"] >= \"2017\"][\"label\"].apply(lambda x: 1)\n",
        "label = pd.concat([series_1, series_2])\n",
        "res[\"label\"] = label"
      ],
      "outputs": [],
      "execution_count": 81,
      "metadata": {
        "jupyter": {
          "source_hidden": false,
          "outputs_hidden": false
        },
        "nteract": {
          "transient": {
            "deleting": false
          }
        },
        "gather": {
          "logged": 1667128920441
        }
      }
    },
    {
      "cell_type": "code",
      "source": [
        "# 데이터를 라벨링된 데이터와 라벨링 안된 데이터로 분리\n",
        "labeled_df = res[-res[\"label\"].isna()]\n",
        "unlabeled_df = res[res[\"label\"].isna()]"
      ],
      "outputs": [],
      "execution_count": 82,
      "metadata": {
        "jupyter": {
          "source_hidden": false,
          "outputs_hidden": false
        },
        "nteract": {
          "transient": {
            "deleting": false
          }
        },
        "gather": {
          "logged": 1667128921501
        }
      }
    },
    {
      "cell_type": "markdown",
      "source": [
        "## LabelSpreading\n",
        "\n",
        "라벨링이 안된 데이터프레임에 라벨링을 해주기 위해서 LabelSpreading 모델을 생성하고 라벨링을 해준다."
      ],
      "metadata": {
        "nteract": {
          "transient": {
            "deleting": false
          }
        }
      }
    },
    {
      "cell_type": "code",
      "source": [
        "X = labeled_df.drop([\"관측일자\",\"label\"], axis = 1)\n",
        "Y = labeled_df[\"label\"]"
      ],
      "outputs": [],
      "execution_count": 83,
      "metadata": {
        "jupyter": {
          "source_hidden": false,
          "outputs_hidden": false
        },
        "nteract": {
          "transient": {
            "deleting": false
          }
        },
        "gather": {
          "logged": 1667128922507
        }
      }
    },
    {
      "cell_type": "code",
      "source": [
        "x_train, x_test, y_train, y_test = train_test_split(X, Y, stratify = Y,\n",
        "                                                    random_state = 29,\n",
        "                                                    test_size = 0.2)"
      ],
      "outputs": [],
      "execution_count": 84,
      "metadata": {
        "jupyter": {
          "source_hidden": false,
          "outputs_hidden": false
        },
        "nteract": {
          "transient": {
            "deleting": false
          }
        },
        "gather": {
          "logged": 1667128924396
        }
      }
    },
    {
      "cell_type": "code",
      "source": [
        "# LabelSpreading의 파라미터\n",
        "params = {\"kernel\" : [\"knn\", \"rbf\"],\n",
        "          \"gamma\" : np.arange(0, 1, 0.1),\n",
        "          \"n_neighbors\" : [1, 3, 5, 7, 9],\n",
        "          }"
      ],
      "outputs": [],
      "execution_count": 85,
      "metadata": {
        "jupyter": {
          "source_hidden": false,
          "outputs_hidden": false
        },
        "nteract": {
          "transient": {
            "deleting": false
          }
        },
        "gather": {
          "logged": 1667128924604
        }
      }
    },
    {
      "cell_type": "code",
      "source": [
        "# GridSearch를 사용하여 LabelSpreading의 최적의 파라미터를 찾음\n",
        "gr_label = GridSearchCV(LabelSpreading(), params, n_jobs = -1)\n",
        "gr_label.fit(x_train, y_train)"
      ],
      "outputs": [
        {
          "output_type": "execute_result",
          "execution_count": 86,
          "data": {
            "text/plain": "GridSearchCV(estimator=LabelSpreading(), n_jobs=-1,\n             param_grid={'gamma': array([0. , 0.1, 0.2, 0.3, 0.4, 0.5, 0.6, 0.7, 0.8, 0.9]),\n                         'kernel': ['knn', 'rbf'],\n                         'n_neighbors': [1, 3, 5, 7, 9]})",
            "text/html": "<style>#sk-container-id-4 {color: black;background-color: white;}#sk-container-id-4 pre{padding: 0;}#sk-container-id-4 div.sk-toggleable {background-color: white;}#sk-container-id-4 label.sk-toggleable__label {cursor: pointer;display: block;width: 100%;margin-bottom: 0;padding: 0.3em;box-sizing: border-box;text-align: center;}#sk-container-id-4 label.sk-toggleable__label-arrow:before {content: \"▸\";float: left;margin-right: 0.25em;color: #696969;}#sk-container-id-4 label.sk-toggleable__label-arrow:hover:before {color: black;}#sk-container-id-4 div.sk-estimator:hover label.sk-toggleable__label-arrow:before {color: black;}#sk-container-id-4 div.sk-toggleable__content {max-height: 0;max-width: 0;overflow: hidden;text-align: left;background-color: #f0f8ff;}#sk-container-id-4 div.sk-toggleable__content pre {margin: 0.2em;color: black;border-radius: 0.25em;background-color: #f0f8ff;}#sk-container-id-4 input.sk-toggleable__control:checked~div.sk-toggleable__content {max-height: 200px;max-width: 100%;overflow: auto;}#sk-container-id-4 input.sk-toggleable__control:checked~label.sk-toggleable__label-arrow:before {content: \"▾\";}#sk-container-id-4 div.sk-estimator input.sk-toggleable__control:checked~label.sk-toggleable__label {background-color: #d4ebff;}#sk-container-id-4 div.sk-label input.sk-toggleable__control:checked~label.sk-toggleable__label {background-color: #d4ebff;}#sk-container-id-4 input.sk-hidden--visually {border: 0;clip: rect(1px 1px 1px 1px);clip: rect(1px, 1px, 1px, 1px);height: 1px;margin: -1px;overflow: hidden;padding: 0;position: absolute;width: 1px;}#sk-container-id-4 div.sk-estimator {font-family: monospace;background-color: #f0f8ff;border: 1px dotted black;border-radius: 0.25em;box-sizing: border-box;margin-bottom: 0.5em;}#sk-container-id-4 div.sk-estimator:hover {background-color: #d4ebff;}#sk-container-id-4 div.sk-parallel-item::after {content: \"\";width: 100%;border-bottom: 1px solid gray;flex-grow: 1;}#sk-container-id-4 div.sk-label:hover label.sk-toggleable__label {background-color: #d4ebff;}#sk-container-id-4 div.sk-serial::before {content: \"\";position: absolute;border-left: 1px solid gray;box-sizing: border-box;top: 0;bottom: 0;left: 50%;z-index: 0;}#sk-container-id-4 div.sk-serial {display: flex;flex-direction: column;align-items: center;background-color: white;padding-right: 0.2em;padding-left: 0.2em;position: relative;}#sk-container-id-4 div.sk-item {position: relative;z-index: 1;}#sk-container-id-4 div.sk-parallel {display: flex;align-items: stretch;justify-content: center;background-color: white;position: relative;}#sk-container-id-4 div.sk-item::before, #sk-container-id-4 div.sk-parallel-item::before {content: \"\";position: absolute;border-left: 1px solid gray;box-sizing: border-box;top: 0;bottom: 0;left: 50%;z-index: -1;}#sk-container-id-4 div.sk-parallel-item {display: flex;flex-direction: column;z-index: 1;position: relative;background-color: white;}#sk-container-id-4 div.sk-parallel-item:first-child::after {align-self: flex-end;width: 50%;}#sk-container-id-4 div.sk-parallel-item:last-child::after {align-self: flex-start;width: 50%;}#sk-container-id-4 div.sk-parallel-item:only-child::after {width: 0;}#sk-container-id-4 div.sk-dashed-wrapped {border: 1px dashed gray;margin: 0 0.4em 0.5em 0.4em;box-sizing: border-box;padding-bottom: 0.4em;background-color: white;}#sk-container-id-4 div.sk-label label {font-family: monospace;font-weight: bold;display: inline-block;line-height: 1.2em;}#sk-container-id-4 div.sk-label-container {text-align: center;}#sk-container-id-4 div.sk-container {/* jupyter's `normalize.less` sets `[hidden] { display: none; }` but bootstrap.min.css set `[hidden] { display: none !important; }` so we also need the `!important` here to be able to override the default hidden behavior on the sphinx rendered scikit-learn.org. See: https://github.com/scikit-learn/scikit-learn/issues/21755 */display: inline-block !important;position: relative;}#sk-container-id-4 div.sk-text-repr-fallback {display: none;}</style><div id=\"sk-container-id-4\" class=\"sk-top-container\"><div class=\"sk-text-repr-fallback\"><pre>GridSearchCV(estimator=LabelSpreading(), n_jobs=-1,\n             param_grid={&#x27;gamma&#x27;: array([0. , 0.1, 0.2, 0.3, 0.4, 0.5, 0.6, 0.7, 0.8, 0.9]),\n                         &#x27;kernel&#x27;: [&#x27;knn&#x27;, &#x27;rbf&#x27;],\n                         &#x27;n_neighbors&#x27;: [1, 3, 5, 7, 9]})</pre><b>In a Jupyter environment, please rerun this cell to show the HTML representation or trust the notebook. <br />On GitHub, the HTML representation is unable to render, please try loading this page with nbviewer.org.</b></div><div class=\"sk-container\" hidden><div class=\"sk-item sk-dashed-wrapped\"><div class=\"sk-label-container\"><div class=\"sk-label sk-toggleable\"><input class=\"sk-toggleable__control sk-hidden--visually\" id=\"sk-estimator-id-6\" type=\"checkbox\" ><label for=\"sk-estimator-id-6\" class=\"sk-toggleable__label sk-toggleable__label-arrow\">GridSearchCV</label><div class=\"sk-toggleable__content\"><pre>GridSearchCV(estimator=LabelSpreading(), n_jobs=-1,\n             param_grid={&#x27;gamma&#x27;: array([0. , 0.1, 0.2, 0.3, 0.4, 0.5, 0.6, 0.7, 0.8, 0.9]),\n                         &#x27;kernel&#x27;: [&#x27;knn&#x27;, &#x27;rbf&#x27;],\n                         &#x27;n_neighbors&#x27;: [1, 3, 5, 7, 9]})</pre></div></div></div><div class=\"sk-parallel\"><div class=\"sk-parallel-item\"><div class=\"sk-item\"><div class=\"sk-label-container\"><div class=\"sk-label sk-toggleable\"><input class=\"sk-toggleable__control sk-hidden--visually\" id=\"sk-estimator-id-7\" type=\"checkbox\" ><label for=\"sk-estimator-id-7\" class=\"sk-toggleable__label sk-toggleable__label-arrow\">estimator: LabelSpreading</label><div class=\"sk-toggleable__content\"><pre>LabelSpreading()</pre></div></div></div><div class=\"sk-serial\"><div class=\"sk-item\"><div class=\"sk-estimator sk-toggleable\"><input class=\"sk-toggleable__control sk-hidden--visually\" id=\"sk-estimator-id-8\" type=\"checkbox\" ><label for=\"sk-estimator-id-8\" class=\"sk-toggleable__label sk-toggleable__label-arrow\">LabelSpreading</label><div class=\"sk-toggleable__content\"><pre>LabelSpreading()</pre></div></div></div></div></div></div></div></div></div></div>"
          },
          "metadata": {}
        }
      ],
      "execution_count": 86,
      "metadata": {
        "jupyter": {
          "source_hidden": false,
          "outputs_hidden": false
        },
        "nteract": {
          "transient": {
            "deleting": false
          }
        },
        "gather": {
          "logged": 1667128928500
        }
      }
    },
    {
      "cell_type": "markdown",
      "source": [
        "만든 모델의 분류 성능을 평가한다."
      ],
      "metadata": {
        "nteract": {
          "transient": {
            "deleting": false
          }
        }
      }
    },
    {
      "cell_type": "code",
      "source": [
        "# x_test 예측\n",
        "test_pred = gr_label.predict(x_test)\n",
        "# 실제 데이터와 비교를 위한 데이터프레임 생성\n",
        "test = pd.DataFrame({\"real\" : y_test,\n",
        "            \"pred\" : test_pred})\n",
        "\n",
        "# ROC AUC 점수\n",
        "print(f\"roc score : {roc_auc_score(y_test, test_pred)}\")\n",
        "# 실제 데이터와 예측 데이터가 다른 행 출력\n",
        "test[test[\"real\"] - test[\"pred\"] != 0]"
      ],
      "outputs": [
        {
          "output_type": "stream",
          "name": "stdout",
          "text": "roc score : 0.9275990099009901\n"
        },
        {
          "output_type": "execute_result",
          "execution_count": 87,
          "data": {
            "text/plain": "        real    pred\n1555 1.00000 0.00000\n26   0.00000 1.00000\n1480 1.00000 0.00000",
            "text/html": "<div>\n<style scoped>\n    .dataframe tbody tr th:only-of-type {\n        vertical-align: middle;\n    }\n\n    .dataframe tbody tr th {\n        vertical-align: top;\n    }\n\n    .dataframe thead th {\n        text-align: right;\n    }\n</style>\n<table border=\"1\" class=\"dataframe\">\n  <thead>\n    <tr style=\"text-align: right;\">\n      <th></th>\n      <th>real</th>\n      <th>pred</th>\n    </tr>\n  </thead>\n  <tbody>\n    <tr>\n      <th>1555</th>\n      <td>1.00000</td>\n      <td>0.00000</td>\n    </tr>\n    <tr>\n      <th>26</th>\n      <td>0.00000</td>\n      <td>1.00000</td>\n    </tr>\n    <tr>\n      <th>1480</th>\n      <td>1.00000</td>\n      <td>0.00000</td>\n    </tr>\n  </tbody>\n</table>\n</div>"
          },
          "metadata": {}
        }
      ],
      "execution_count": 87,
      "metadata": {
        "jupyter": {
          "source_hidden": false,
          "outputs_hidden": false
        },
        "nteract": {
          "transient": {
            "deleting": false
          }
        },
        "gather": {
          "logged": 1667128931680
        }
      }
    },
    {
      "cell_type": "markdown",
      "source": [
        "roc score가 92.76%이고 실제 데이터와 차이도 3개 정도인 걸로 보아 분류가 제대로 되었음을 확인할 수 있다."
      ],
      "metadata": {
        "nteract": {
          "transient": {
            "deleting": false
          }
        }
      }
    },
    {
      "cell_type": "code",
      "source": [
        "# 예측에 사용할 데이터프레임\n",
        "pred_df = unlabeled_df.drop([\"관측일자\", \"label\"], axis = 1)\n",
        "# 레이블 예측\n",
        "pred_label = gr_label.predict(pred_df)\n",
        "unlabeled_df[\"label\"] = pred_label\n",
        "# 라벨별 개수 출력\n",
        "unlabeled_df[\"label\"].value_counts()"
      ],
      "outputs": [
        {
          "output_type": "execute_result",
          "execution_count": 88,
          "data": {
            "text/plain": "1.00000    802\n0.00000    274\nName: label, dtype: int64"
          },
          "metadata": {}
        }
      ],
      "execution_count": 88,
      "metadata": {
        "jupyter": {
          "source_hidden": false,
          "outputs_hidden": false
        },
        "nteract": {
          "transient": {
            "deleting": false
          }
        },
        "gather": {
          "logged": 1667128935720
        }
      }
    },
    {
      "cell_type": "code",
      "source": [
        "# 라벨링된 데이터와 LabelSpreading을 통하여 라벨링을 해준 데이터를 병합\n",
        "res_df = pd.concat([labeled_df, unlabeled_df])\n",
        "# 모든 데이터의 라벨별 개수 출력\n",
        "res_df[\"label\"].value_counts()"
      ],
      "outputs": [
        {
          "output_type": "execute_result",
          "execution_count": 89,
          "data": {
            "text/plain": "1.00000    1303\n0.00000     315\nName: label, dtype: int64"
          },
          "metadata": {}
        }
      ],
      "execution_count": 89,
      "metadata": {
        "jupyter": {
          "source_hidden": false,
          "outputs_hidden": false
        },
        "nteract": {
          "transient": {
            "deleting": false
          }
        },
        "gather": {
          "logged": 1667128937643
        }
      }
    },
    {
      "cell_type": "markdown",
      "source": [
        "0과 1로 라벨링된 데이터 개수의 불균형을 확인할 수 있다."
      ],
      "metadata": {
        "nteract": {
          "transient": {
            "deleting": false
          }
        }
      }
    },
    {
      "cell_type": "markdown",
      "source": [
        "# Modeling"
      ],
      "metadata": {
        "nteract": {
          "transient": {
            "deleting": false
          }
        }
      }
    },
    {
      "cell_type": "markdown",
      "source": [
        "## train_test_split"
      ],
      "metadata": {
        "nteract": {
          "transient": {
            "deleting": false
          }
        }
      }
    },
    {
      "cell_type": "code",
      "source": [
        "X = res_df.drop([\"관측일자\", \"label\"], axis = 1)\n",
        "Y = res_df[\"label\"]"
      ],
      "outputs": [],
      "execution_count": 90,
      "metadata": {
        "jupyter": {
          "source_hidden": false,
          "outputs_hidden": false
        },
        "nteract": {
          "transient": {
            "deleting": false
          }
        },
        "gather": {
          "logged": 1667128940186
        }
      }
    },
    {
      "cell_type": "code",
      "source": [
        "x_train, x_test, y_train, y_test = train_test_split(X, Y, stratify = Y, random_state = 29, test_size = 0.2)"
      ],
      "outputs": [],
      "execution_count": 91,
      "metadata": {
        "jupyter": {
          "source_hidden": false,
          "outputs_hidden": false
        },
        "nteract": {
          "transient": {
            "deleting": false
          }
        },
        "gather": {
          "logged": 1667128941724
        }
      }
    },
    {
      "cell_type": "markdown",
      "source": [
        "## Oversampling"
      ],
      "metadata": {
        "nteract": {
          "transient": {
            "deleting": false
          }
        }
      }
    },
    {
      "cell_type": "markdown",
      "source": [
        "종속 변수가 불균형한 분포를 보이므로 낮은 비율 클래스의 데이터 수를 늘리는 오버샘플링을 한다."
      ],
      "metadata": {
        "nteract": {
          "transient": {
            "deleting": false
          }
        }
      }
    },
    {
      "cell_type": "code",
      "source": [
        "y_train.value_counts()"
      ],
      "outputs": [
        {
          "output_type": "execute_result",
          "execution_count": 92,
          "data": {
            "text/plain": "1.00000    1042\n0.00000     252\nName: label, dtype: int64"
          },
          "metadata": {}
        }
      ],
      "execution_count": 92,
      "metadata": {
        "jupyter": {
          "source_hidden": false,
          "outputs_hidden": false
        },
        "nteract": {
          "transient": {
            "deleting": false
          }
        },
        "gather": {
          "logged": 1667128943746
        }
      }
    },
    {
      "cell_type": "markdown",
      "source": [
        "현재 레이블이 1인 데이터는 1,042개, 0인 데이터는 252개로 오버샘플링을 통하여 불균형한 라벨 간의 개수를 맞춰준다."
      ],
      "metadata": {
        "nteract": {
          "transient": {
            "deleting": false
          }
        }
      }
    },
    {
      "cell_type": "markdown",
      "source": [
        "낮은 비율 클래스 데이터의 최근접 이웃을 이용하여 새로운 데이터를 생성하는 SMOTE(Synthetic Minority Over-sampling Technique)를 이용한다."
      ],
      "metadata": {
        "nteract": {
          "transient": {
            "deleting": false
          }
        }
      }
    },
    {
      "cell_type": "code",
      "source": [
        "smote = SMOTE(random_state = 29)\n",
        "x_train_over, y_train_over = smote.fit_resample(x_train, y_train)"
      ],
      "outputs": [],
      "execution_count": 93,
      "metadata": {
        "jupyter": {
          "source_hidden": false,
          "outputs_hidden": false
        },
        "nteract": {
          "transient": {
            "deleting": false
          }
        },
        "gather": {
          "logged": 1667128945727
        }
      }
    },
    {
      "cell_type": "code",
      "source": [
        "print(\"SMOTE 적용 전 학습용 피처/레이블 데이터 세트 : \", x_train.shape, y_train.shape)\n",
        "print('SMOTE 적용 후 학습용 피처/레이블 데이터 세트 :', x_train_over.shape, y_train_over.shape)\n",
        "print('SMOTE 적용 후 값의 분포 :\\n',pd.Series(y_train_over).value_counts() )"
      ],
      "outputs": [
        {
          "output_type": "stream",
          "name": "stdout",
          "text": "SMOTE 적용 전 학습용 피처/레이블 데이터 세트 :  (1294, 9) (1294,)\nSMOTE 적용 후 학습용 피처/레이블 데이터 세트 : (2084, 9) (2084,)\nSMOTE 적용 후 값의 분포 :\n 0.00000    1042\n1.00000    1042\nName: label, dtype: int64\n"
        }
      ],
      "execution_count": 94,
      "metadata": {
        "jupyter": {
          "source_hidden": false,
          "outputs_hidden": false
        },
        "nteract": {
          "transient": {
            "deleting": false
          }
        },
        "gather": {
          "logged": 1667128946546
        }
      }
    },
    {
      "cell_type": "markdown",
      "source": [
        "## 신경망 모형"
      ],
      "metadata": {
        "nteract": {
          "transient": {
            "deleting": false
          }
        }
      }
    },
    {
      "cell_type": "markdown",
      "source": [
        "모델이 더 효과적으로 학습할 수 있도록 특성 스케일링을 하였으며 여기서는 표준화를 사용하였다."
      ],
      "metadata": {
        "nteract": {
          "transient": {
            "deleting": false
          }
        }
      }
    },
    {
      "cell_type": "code",
      "source": [
        "ss = StandardScaler()\n",
        "scaled_train = ss.fit_transform(x_train)"
      ],
      "outputs": [],
      "execution_count": 95,
      "metadata": {
        "jupyter": {
          "source_hidden": false,
          "outputs_hidden": false
        },
        "nteract": {
          "transient": {
            "deleting": false
          }
        },
        "gather": {
          "logged": 1667128950451
        }
      }
    },
    {
      "cell_type": "markdown",
      "source": [
        "테스트 데이터와 검증 데이터로 나눈다."
      ],
      "metadata": {
        "nteract": {
          "transient": {
            "deleting": false
          }
        }
      }
    },
    {
      "cell_type": "code",
      "source": [
        "scaled_train, scaled_val, y_train, y_val = train_test_split(scaled_train, y_train, stratify = y_train,\n",
        "                                                            random_state = 29, test_size = 0.2)"
      ],
      "outputs": [],
      "execution_count": 96,
      "metadata": {
        "jupyter": {
          "source_hidden": false,
          "outputs_hidden": false
        },
        "nteract": {
          "transient": {
            "deleting": false
          }
        },
        "gather": {
          "logged": 1667128953660
        }
      }
    },
    {
      "cell_type": "markdown",
      "source": [
        "### 모델 1\r\n",
        "- 순서대로 연결된 층을 일렬로 쌓아서 구성하는 Sequential 모델을 생성했다.\r\n",
        "- 뉴런 개수가 128, 64, 16, 4 그리고 1개인 층을 만들어 모델에 추가했다.\r\n",
        "- 활성화 함수는 ReLU를 사용했다.\r\n",
        "- 단, 마지막 뉴런이 1개인 출력층에서는 이진 분류 문제이므로 sigmoid 활성화 함수를 사용했다."
      ],
      "metadata": {
        "nteract": {
          "transient": {
            "deleting": false
          }
        }
      }
    },
    {
      "cell_type": "code",
      "source": [
        "model = keras.Sequential()\n",
        "model.add(keras.layers.Flatten(input_shape = (9,)))\n",
        "model.add(keras.layers.Dense(128, activation = \"relu\"))\n",
        "model.add(keras.layers.Dense(64, activation = \"relu\"))\n",
        "model.add(keras.layers.Dense(16, activation = \"relu\"))\n",
        "model.add(keras.layers.Dense(4, activation = \"relu\"))\n",
        "model.add(keras.layers.Dense(1, activation = \"sigmoid\"))"
      ],
      "outputs": [],
      "execution_count": 231,
      "metadata": {
        "jupyter": {
          "source_hidden": false,
          "outputs_hidden": false
        },
        "nteract": {
          "transient": {
            "deleting": false
          }
        },
        "gather": {
          "logged": 1667140623285
        }
      }
    },
    {
      "cell_type": "markdown",
      "source": [
        "케라스의 콜백기능을 사용하여 모델의 체크포인트를 저장해주고, 조기종료를 구성하여서 과대적합을 방지했다."
      ],
      "metadata": {
        "nteract": {
          "transient": {
            "deleting": false
          }
        }
      }
    },
    {
      "cell_type": "code",
      "source": [
        "checkpoint_cb = keras.callbacks.ModelCheckpoint(\"./model/best-model.h5\",\n",
        "                                               save_best_only = True)\n",
        "\n",
        "early_stopping_cb = keras.callbacks.EarlyStopping(patience = 2,\n",
        "                                                 restore_best_weights = True)"
      ],
      "outputs": [],
      "execution_count": 232,
      "metadata": {
        "jupyter": {
          "source_hidden": false,
          "outputs_hidden": false
        },
        "nteract": {
          "transient": {
            "deleting": false
          }
        },
        "gather": {
          "logged": 1667140624299
        }
      }
    },
    {
      "cell_type": "markdown",
      "source": [
        "# 이 셋 중 맘에 드는 거 하나 골라서 사용해주세요!"
      ],
      "metadata": {
        "nteract": {
          "transient": {
            "deleting": false
          }
        }
      }
    },
    {
      "cell_type": "markdown",
      "source": [
        "옵티마이저는 Adam을 사용하였으며, 이진 분류 문제이므로 손실함수는 binary_crossentropy를 사용하였으며, 평가지표는 accuracy를 사용하였다."
      ],
      "metadata": {
        "nteract": {
          "transient": {
            "deleting": false
          }
        }
      }
    },
    {
      "cell_type": "code",
      "source": [
        "opt = keras.optimizers.Adam()\n",
        "model.compile(optimizer=opt, loss = \"binary_crossentropy\", metrics= \"accuracy\")"
      ],
      "outputs": [],
      "execution_count": 233,
      "metadata": {
        "jupyter": {
          "source_hidden": false,
          "outputs_hidden": false
        },
        "nteract": {
          "transient": {
            "deleting": false
          }
        },
        "gather": {
          "logged": 1667140626283
        }
      }
    },
    {
      "cell_type": "code",
      "source": [
        "# 모델 학습\n",
        "history = model.fit(scaled_train, y_train, epochs = 200,\n",
        "                   validation_data = (scaled_val, y_val),\n",
        "                   callbacks = [checkpoint_cb, early_stopping_cb])"
      ],
      "outputs": [
        {
          "output_type": "stream",
          "name": "stdout",
          "text": "Epoch 1/200\n33/33 [==============================] - 0s 6ms/step - loss: 0.5044 - accuracy: 0.7903 - val_loss: 0.3986 - val_accuracy: 0.8069\b\b\b\b\b\b\b\b\b\b\b\b\b\b\b\b\b\b\b\b\b\b\b\b\b\b\b\b\b\b\b\b\b\b\b\b\nEpoch 2/200\n33/33 [==============================] - 0s 3ms/step - loss: 0.3562 - accuracy: 0.8300 - val_loss: 0.3363 - val_accuracy: 0.8417\b\b\b\b\b\b\b\b\b\b\b\b\b\b\b\b\b\b\b\b\b\b\b\b\b\b\b\b\b\b\b\b\b\b\b\b\nEpoch 3/200\n33/33 [==============================] - 0s 3ms/step - loss: 0.3055 - accuracy: 0.8435 - val_loss: 0.2934 - val_accuracy: 0.8494\b\b\b\b\b\b\b\b\b\b\b\b\b\b\b\b\b\b\b\b\b\b\b\b\b\b\b\b\b\b\b\b\b\b\b\b\nEpoch 4/200\n33/33 [==============================] - 0s 3ms/step - loss: 0.2645 - accuracy: 0.8754 - val_loss: 0.2561 - val_accuracy: 0.8726\b\b\b\b\b\b\b\b\b\b\b\b\b\b\b\b\b\b\b\b\b\b\b\b\b\b\b\b\b\b\b\b\b\b\b\b\nEpoch 5/200\n33/33 [==============================] - 0s 3ms/step - loss: 0.2260 - accuracy: 0.9072 - val_loss: 0.2246 - val_accuracy: 0.8996\b\b\b\b\b\b\b\b\b\b\b\b\b\b\b\b\b\b\b\b\b\b\b\b\b\b\b\b\b\b\b\b\b\b\b\b\nEpoch 6/200\n33/33 [==============================] - 0s 3ms/step - loss: 0.1932 - accuracy: 0.9246 - val_loss: 0.1926 - val_accuracy: 0.9035\b\b\b\b\b\b\b\b\b\b\b\b\b\b\b\b\b\b\b\b\b\b\b\b\b\b\b\b\b\b\b\b\b\b\b\b\nEpoch 7/200\n33/33 [==============================] - 0s 3ms/step - loss: 0.1662 - accuracy: 0.9333 - val_loss: 0.1757 - val_accuracy: 0.9151\b\b\b\b\b\b\b\b\b\b\b\b\b\b\b\b\b\b\b\b\b\b\b\b\b\b\b\b\b\b\b\b\b\b\b\b\nEpoch 8/200\n33/33 [==============================] - 0s 3ms/step - loss: 0.1521 - accuracy: 0.9391 - val_loss: 0.1666 - val_accuracy: 0.9228\b\b\b\b\b\b\b\b\b\b\b\b\b\b\b\b\b\b\b\b\b\b\b\b\b\b\b\b\b\b\b\b\b\b\b\b\nEpoch 9/200\n33/33 [==============================] - 0s 3ms/step - loss: 0.1266 - accuracy: 0.9459 - val_loss: 0.1580 - val_accuracy: 0.9151\b\b\b\b\b\b\b\b\b\b\b\b\b\b\b\b\b\b\b\b\b\b\b\b\b\b\b\b\b\b\b\b\b\b\b\b\nEpoch 10/200\n33/33 [==============================] - 0s 4ms/step - loss: 0.1102 - accuracy: 0.9614 - val_loss: 0.1505 - val_accuracy: 0.9344\b\b\b\b\b\b\b\b\b\b\b\b\b\b\b\b\b\b\b\b\b\b\b\b\b\b\b\b\b\b\b\b\b\b\b\b\nEpoch 11/200\n33/33 [==============================] - 0s 4ms/step - loss: 0.0950 - accuracy: 0.9623 - val_loss: 0.1500 - val_accuracy: 0.9459\b\b\b\b\b\b\b\b\b\b\b\b\b\b\b\b\b\b\b\b\b\b\b\b\b\b\b\b\b\b\b\b\b\b\b\b\nEpoch 12/200\n33/33 [==============================] - 0s 1ms/step - loss: 0.0860 - accuracy: 0.9700 - val_loss: 0.1571 - val_accuracy: 0.9459\b\b\b\b\b\b\b\b\b\b\b\b\b\b\b\b\b\b\b\b\b\b\b\b\b\b\b\b\b\b\b\b\b\b\b\b\nEpoch 13/200\n33/33 [==============================] - 0s 2ms/step - loss: 0.0898 - accuracy: 0.9671 - val_loss: 0.1805 - val_accuracy: 0.9305\b\b\b\b\b\b\b\b\b\b\b\b\b\b\b\b\b\b\b\b\b\b\b\b\b\b\b\b\b\b\b\b\b\b\b\b\n"
        }
      ],
      "execution_count": 234,
      "metadata": {
        "jupyter": {
          "source_hidden": false,
          "outputs_hidden": false
        },
        "nteract": {
          "transient": {
            "deleting": false
          }
        },
        "gather": {
          "logged": 1667140630230
        }
      }
    },
    {
      "cell_type": "markdown",
      "source": [
        "train과 validation 각각의 loss와 accuracy를 시각화한 결과는 다음과 같다."
      ],
      "metadata": {
        "nteract": {
          "transient": {
            "deleting": false
          }
        }
      }
    },
    {
      "cell_type": "code",
      "source": [
        "plt.figure()\n",
        "plt.plot(history.history[\"loss\"], label = \"train_loss\")\n",
        "plt.plot(history.history[\"accuracy\"], label = \"train_accuracy\")\n",
        "\n",
        "plt.plot(history.history[\"val_loss\"], label = \"val_loss\")\n",
        "plt.plot(history.history[\"val_accuracy\"], label = \"val_accuracy\")\n",
        "\n",
        "plt.legend()\n",
        "plt.xlabel(\"epoch\")\n",
        "plt.show()"
      ],
      "outputs": [
        {
          "output_type": "display_data",
          "data": {
            "text/plain": "<Figure size 576x396 with 1 Axes>",
            "image/png": "[encoded data removed]"
          },
          "metadata": {
            "image/png": {
              "width": 489,
              "height": 355
            }
          }
        }
      ],
      "execution_count": 235,
      "metadata": {
        "jupyter": {
          "source_hidden": false,
          "outputs_hidden": false
        },
        "nteract": {
          "transient": {
            "deleting": false
          }
        },
        "gather": {
          "logged": 1667140640209
        }
      }
    },
    {
      "cell_type": "code",
      "source": [
        "# 몇 번째 에포크에서 중지되었는지 확인\n",
        "print(early_stopping_cb.stopped_epoch)"
      ],
      "outputs": [
        {
          "output_type": "stream",
          "name": "stdout",
          "text": "12\n"
        }
      ],
      "execution_count": 236,
      "metadata": {
        "jupyter": {
          "source_hidden": false,
          "outputs_hidden": false
        },
        "nteract": {
          "transient": {
            "deleting": false
          }
        },
        "gather": {
          "logged": 1667140648366
        }
      }
    },
    {
      "cell_type": "code",
      "source": [
        "model.evaluate(scaled_val, y_val)"
      ],
      "outputs": [
        {
          "output_type": "stream",
          "name": "stdout",
          "text": "\r1/9 [==>...........................] - ETA: 0s - loss: 0.1604 - accuracy: 0.9062\b\b\b\b\b\b\b\b\b\b\b\b\b\b\b\b\b\b\b\b\b\b\b\b\b\b\b\b\b\b\b\b\b\b\b\b\b\b\b\b\b\b\b\b\b\b\b\b\b\b\b\b\b\b\b\b\b\b\b\b\b\b\b\b\b\b\b\b\b\b\b\b\b\b\b\b\b\b\b\b\r9/9 [==============================] - 0s 521us/step - loss: 0.1500 - accuracy: 0.9459\n"
        },
        {
          "output_type": "execute_result",
          "execution_count": 237,
          "data": {
            "text/plain": "[0.15003201365470886, 0.9459459185600281]"
          },
          "metadata": {}
        }
      ],
      "execution_count": 237,
      "metadata": {
        "jupyter": {
          "source_hidden": false,
          "outputs_hidden": false
        },
        "nteract": {
          "transient": {
            "deleting": false
          }
        },
        "gather": {
          "logged": 1667140650330
        }
      }
    },
    {
      "cell_type": "markdown",
      "source": [
        "12번째 에포크에서 종료가 되었으며, accuracy는 94.59% 정도 나온 것으로 확인된다."
      ],
      "metadata": {
        "nteract": {
          "transient": {
            "deleting": false
          }
        }
      }
    },
    {
      "cell_type": "markdown",
      "source": [
        "### 모델 2\r\n",
        "- 다음은 모델 1과 같은 모델에서 모델의 성능 향상을 위해 처음 두 개의 밀집층 사이에 Dropout 층을 포함시켰다."
      ],
      "metadata": {
        "nteract": {
          "transient": {
            "deleting": false
          }
        }
      }
    },
    {
      "cell_type": "code",
      "source": [
        "model_dr = keras.Sequential()\n",
        "model_dr.add(keras.layers.Flatten(input_shape = (9,)))\n",
        "model_dr.add(keras.layers.Dense(128, activation = \"relu\"))\n",
        "model_dr.add(keras.layers.Dropout(0.45))\n",
        "model_dr.add(keras.layers.Dense(64, activation = \"relu\"))\n",
        "model_dr.add(keras.layers.Dropout(0.45))\n",
        "model_dr.add(keras.layers.Dense(16, activation = \"relu\"))\n",
        "model_dr.add(keras.layers.Dense(4, activation = \"relu\"))\n",
        "model_dr.add(keras.layers.Dense(1, activation = \"sigmoid\"))"
      ],
      "outputs": [],
      "execution_count": 291,
      "metadata": {
        "jupyter": {
          "source_hidden": false,
          "outputs_hidden": false
        },
        "nteract": {
          "transient": {
            "deleting": false
          }
        },
        "gather": {
          "logged": 1667141052292
        }
      }
    },
    {
      "cell_type": "code",
      "source": [
        "opt = keras.optimizers.Adam()\n",
        "model_dr.compile(optimizer=opt, loss = \"binary_crossentropy\", metrics= \"accuracy\")"
      ],
      "outputs": [],
      "execution_count": 292,
      "metadata": {
        "jupyter": {
          "source_hidden": false,
          "outputs_hidden": false
        },
        "nteract": {
          "transient": {
            "deleting": false
          }
        },
        "gather": {
          "logged": 1667141053269
        }
      }
    },
    {
      "cell_type": "code",
      "source": [
        "checkpoint_cb = keras.callbacks.ModelCheckpoint(\"./model/best-model_dr.h5\",\n",
        "                                               save_best_only = True)\n",
        "\n",
        "early_stopping_cb = keras.callbacks.EarlyStopping(patience = 2,\n",
        "                                                 restore_best_weights = True)"
      ],
      "outputs": [],
      "execution_count": 293,
      "metadata": {
        "jupyter": {
          "source_hidden": false,
          "outputs_hidden": false
        },
        "nteract": {
          "transient": {
            "deleting": false
          }
        },
        "gather": {
          "logged": 1667141054261
        }
      }
    },
    {
      "cell_type": "code",
      "source": [
        "# 모델 학습\n",
        "history_dr = model_dr.fit(scaled_train, y_train, epochs = 200,\n",
        "                   validation_data = (scaled_val, y_val),\n",
        "                   callbacks = [checkpoint_cb, early_stopping_cb])"
      ],
      "outputs": [
        {
          "output_type": "stream",
          "name": "stdout",
          "text": "Epoch 1/200\n33/33 [==============================] - 0s 6ms/step - loss: 0.5192 - accuracy: 0.7836 - val_loss: 0.4101 - val_accuracy: 0.8069\b\b\b\b\b\b\b\b\b\b\b\b\b\b\b\b\b\b\b\b\b\b\b\b\b\b\b\b\b\b\b\b\b\b\b\b\nEpoch 2/200\n33/33 [==============================] - 0s 3ms/step - loss: 0.4034 - accuracy: 0.8077 - val_loss: 0.3673 - val_accuracy: 0.8108\b\b\b\b\b\b\b\b\b\b\b\b\b\b\b\b\b\b\b\b\b\b\b\b\b\b\b\b\b\b\b\b\b\b\b\b\nEpoch 3/200\n33/33 [==============================] - 0s 3ms/step - loss: 0.3736 - accuracy: 0.8203 - val_loss: 0.3455 - val_accuracy: 0.8417\b\b\b\b\b\b\b\b\b\b\b\b\b\b\b\b\b\b\b\b\b\b\b\b\b\b\b\b\b\b\b\b\b\b\b\b\nEpoch 4/200\n33/33 [==============================] - 0s 3ms/step - loss: 0.3539 - accuracy: 0.8309 - val_loss: 0.3272 - val_accuracy: 0.8417\b\b\b\b\b\b\b\b\b\b\b\b\b\b\b\b\b\b\b\b\b\b\b\b\b\b\b\b\b\b\b\b\b\b\b\b\nEpoch 5/200\n33/33 [==============================] - 0s 3ms/step - loss: 0.3245 - accuracy: 0.8473 - val_loss: 0.3078 - val_accuracy: 0.8494\b\b\b\b\b\b\b\b\b\b\b\b\b\b\b\b\b\b\b\b\b\b\b\b\b\b\b\b\b\b\b\b\b\b\b\b\nEpoch 6/200\n33/33 [==============================] - 0s 3ms/step - loss: 0.3040 - accuracy: 0.8560 - val_loss: 0.2855 - val_accuracy: 0.8687\b\b\b\b\b\b\b\b\b\b\b\b\b\b\b\b\b\b\b\b\b\b\b\b\b\b\b\b\b\b\b\b\b\b\b\b\nEpoch 7/200\n33/33 [==============================] - 0s 3ms/step - loss: 0.2761 - accuracy: 0.8773 - val_loss: 0.2600 - val_accuracy: 0.8880\b\b\b\b\b\b\b\b\b\b\b\b\b\b\b\b\b\b\b\b\b\b\b\b\b\b\b\b\b\b\b\b\b\b\b\b\nEpoch 8/200\n33/33 [==============================] - 0s 3ms/step - loss: 0.2544 - accuracy: 0.8899 - val_loss: 0.2407 - val_accuracy: 0.8996\b\b\b\b\b\b\b\b\b\b\b\b\b\b\b\b\b\b\b\b\b\b\b\b\b\b\b\b\b\b\b\b\b\b\b\b\nEpoch 9/200\n33/33 [==============================] - 0s 3ms/step - loss: 0.2415 - accuracy: 0.8918 - val_loss: 0.2150 - val_accuracy: 0.9112\b\b\b\b\b\b\b\b\b\b\b\b\b\b\b\b\b\b\b\b\b\b\b\b\b\b\b\b\b\b\b\b\b\b\b\b\nEpoch 10/200\n33/33 [==============================] - 0s 3ms/step - loss: 0.2182 - accuracy: 0.8966 - val_loss: 0.1989 - val_accuracy: 0.9073\b\b\b\b\b\b\b\b\b\b\b\b\b\b\b\b\b\b\b\b\b\b\b\b\b\b\b\b\b\b\b\b\b\b\b\b\nEpoch 11/200\n33/33 [==============================] - 0s 4ms/step - loss: 0.2081 - accuracy: 0.9130 - val_loss: 0.1835 - val_accuracy: 0.9112\b\b\b\b\b\b\b\b\b\b\b\b\b\b\b\b\b\b\b\b\b\b\b\b\b\b\b\b\b\b\b\b\b\b\b\b\nEpoch 12/200\n33/33 [==============================] - 0s 6ms/step - loss: 0.1986 - accuracy: 0.9188 - val_loss: 0.1803 - val_accuracy: 0.9073\b\b\b\b\b\b\b\b\b\b\b\b\b\b\b\b\b\b\b\b\b\b\b\b\b\b\b\b\b\b\b\b\b\b\b\b\nEpoch 13/200\n33/33 [==============================] - 0s 3ms/step - loss: 0.2031 - accuracy: 0.9208 - val_loss: 0.1715 - val_accuracy: 0.9189\b\b\b\b\b\b\b\b\b\b\b\b\b\b\b\b\b\b\b\b\b\b\b\b\b\b\b\b\b\b\b\b\b\b\b\b\nEpoch 14/200\n33/33 [==============================] - 0s 4ms/step - loss: 0.1732 - accuracy: 0.9324 - val_loss: 0.1676 - val_accuracy: 0.9228\b\b\b\b\b\b\b\b\b\b\b\b\b\b\b\b\b\b\b\b\b\b\b\b\b\b\b\b\b\b\b\b\b\b\b\b\nEpoch 15/200\n33/33 [==============================] - 0s 1ms/step - loss: 0.1532 - accuracy: 0.9430 - val_loss: 0.1702 - val_accuracy: 0.9228\b\b\b\b\b\b\b\b\b\b\b\b\b\b\b\b\b\b\b\b\b\b\b\b\b\b\b\b\b\b\b\b\b\b\b\b\nEpoch 16/200\n33/33 [==============================] - 0s 3ms/step - loss: 0.1570 - accuracy: 0.9411 - val_loss: 0.1536 - val_accuracy: 0.9498\b\b\b\b\b\b\b\b\b\b\b\b\b\b\b\b\b\b\b\b\b\b\b\b\b\b\b\b\b\b\b\b\b\b\b\b\nEpoch 17/200\n33/33 [==============================] - 0s 1ms/step - loss: 0.1549 - accuracy: 0.9469 - val_loss: 0.1580 - val_accuracy: 0.9382\b\b\b\b\b\b\b\b\b\b\b\b\b\b\b\b\b\b\b\b\b\b\b\b\b\b\b\b\b\b\b\b\b\b\b\b\nEpoch 18/200\n33/33 [==============================] - 0s 3ms/step - loss: 0.1348 - accuracy: 0.9527 - val_loss: 0.1481 - val_accuracy: 0.9382\b\b\b\b\b\b\b\b\b\b\b\b\b\b\b\b\b\b\b\b\b\b\b\b\b\b\b\b\b\b\b\b\b\b\b\b\nEpoch 19/200\n33/33 [==============================] - 0s 4ms/step - loss: 0.1430 - accuracy: 0.9430 - val_loss: 0.1428 - val_accuracy: 0.9537\b\b\b\b\b\b\b\b\b\b\b\b\b\b\b\b\b\b\b\b\b\b\b\b\b\b\b\b\b\b\b\b\b\b\b\b\nEpoch 20/200\n33/33 [==============================] - 0s 4ms/step - loss: 0.1474 - accuracy: 0.9469 - val_loss: 0.1390 - val_accuracy: 0.9421\b\b\b\b\b\b\b\b\b\b\b\b\b\b\b\b\b\b\b\b\b\b\b\b\b\b\b\b\b\b\b\b\b\b\b\b\nEpoch 21/200\n33/33 [==============================] - 0s 4ms/step - loss: 0.1252 - accuracy: 0.9565 - val_loss: 0.1360 - val_accuracy: 0.9459\b\b\b\b\b\b\b\b\b\b\b\b\b\b\b\b\b\b\b\b\b\b\b\b\b\b\b\b\b\b\b\b\b\b\b\b\nEpoch 22/200\n33/33 [==============================] - 0s 3ms/step - loss: 0.1256 - accuracy: 0.9527 - val_loss: 0.1326 - val_accuracy: 0.9498\b\b\b\b\b\b\b\b\b\b\b\b\b\b\b\b\b\b\b\b\b\b\b\b\b\b\b\b\b\b\b\b\b\b\b\b\nEpoch 23/200\n33/33 [==============================] - 0s 4ms/step - loss: 0.1094 - accuracy: 0.9594 - val_loss: 0.1300 - val_accuracy: 0.9537\b\b\b\b\b\b\b\b\b\b\b\b\b\b\b\b\b\b\b\b\b\b\b\b\b\b\b\b\b\b\b\b\b\b\b\b\nEpoch 24/200\n33/33 [==============================] - 0s 1ms/step - loss: 0.1158 - accuracy: 0.9536 - val_loss: 0.1419 - val_accuracy: 0.9537\b\b\b\b\b\b\b\b\b\b\b\b\b\b\b\b\b\b\b\b\b\b\b\b\b\b\b\b\b\b\b\b\b\b\b\b\nEpoch 25/200\n33/33 [==============================] - 0s 1ms/step - loss: 0.1095 - accuracy: 0.9700 - val_loss: 0.1307 - val_accuracy: 0.9537\b\b\b\b\b\b\b\b\b\b\b\b\b\b\b\b\b\b\b\b\b\b\b\b\b\b\b\b\b\b\b\b\b\b\b\b\n"
        }
      ],
      "execution_count": 294,
      "metadata": {
        "jupyter": {
          "source_hidden": false,
          "outputs_hidden": false
        },
        "nteract": {
          "transient": {
            "deleting": false
          }
        },
        "gather": {
          "logged": 1667141059287
        }
      }
    },
    {
      "cell_type": "markdown",
      "source": [
        "train과 validation 각각의 loss와 accuracy를 시각화한 결과는 다음과 같다."
      ],
      "metadata": {
        "nteract": {
          "transient": {
            "deleting": false
          }
        }
      }
    },
    {
      "cell_type": "code",
      "source": [
        "plt.figure()\n",
        "plt.plot(history_dr.history[\"loss\"], label = \"train_loss\")\n",
        "plt.plot(history_dr.history[\"accuracy\"], label = \"train_accuracy\")\n",
        "\n",
        "plt.plot(history_dr.history[\"val_loss\"], label = \"val_loss\")\n",
        "plt.plot(history_dr.history[\"val_accuracy\"], label = \"val_accuracy\")\n",
        "\n",
        "plt.legend()\n",
        "plt.xlabel(\"epoch\")\n",
        "plt.show()"
      ],
      "outputs": [
        {
          "output_type": "display_data",
          "data": {
            "text/plain": "<Figure size 576x396 with 1 Axes>",
            "image/png": "[encoded data removed]"
          },
          "metadata": {
            "image/png": {
              "width": 492,
              "height": 355
            }
          }
        }
      ],
      "execution_count": 295,
      "metadata": {
        "jupyter": {
          "source_hidden": false,
          "outputs_hidden": false
        },
        "nteract": {
          "transient": {
            "deleting": false
          }
        },
        "gather": {
          "logged": 1667141060249
        }
      }
    },
    {
      "cell_type": "code",
      "source": [
        "# 몇 번째 에포크에서 중지되었는지 확인\n",
        "print(early_stopping_cb.stopped_epoch)"
      ],
      "outputs": [
        {
          "output_type": "stream",
          "name": "stdout",
          "text": "24\n"
        }
      ],
      "execution_count": 296,
      "metadata": {
        "jupyter": {
          "source_hidden": false,
          "outputs_hidden": false
        },
        "nteract": {
          "transient": {
            "deleting": false
          }
        },
        "gather": {
          "logged": 1667141063276
        }
      }
    },
    {
      "cell_type": "code",
      "source": [
        "model_dr.evaluate(scaled_val, y_val)"
      ],
      "outputs": [
        {
          "output_type": "stream",
          "name": "stdout",
          "text": "\r1/9 [==>...........................] - ETA: 0s - loss: 0.1365 - accuracy: 0.9375\b\b\b\b\b\b\b\b\b\b\b\b\b\b\b\b\b\b\b\b\b\b\b\b\b\b\b\b\b\b\b\b\b\b\b\b\b\b\b\b\b\b\b\b\b\b\b\b\b\b\b\b\b\b\b\b\b\b\b\b\b\b\b\b\b\b\b\b\b\b\b\b\b\b\b\b\b\b\b\b\r9/9 [==============================] - 0s 542us/step - loss: 0.1300 - accuracy: 0.9537\n"
        },
        {
          "output_type": "execute_result",
          "execution_count": 297,
          "data": {
            "text/plain": "[0.13001690804958344, 0.953667938709259]"
          },
          "metadata": {}
        }
      ],
      "execution_count": 297,
      "metadata": {
        "jupyter": {
          "source_hidden": false,
          "outputs_hidden": false
        },
        "nteract": {
          "transient": {
            "deleting": false
          }
        },
        "gather": {
          "logged": 1667141064429
        }
      }
    },
    {
      "cell_type": "markdown",
      "source": [
        "모델 2의 결과, 에포크 24에서 학습이 중지됐고 약 95.37%의 정확도를 보임으로써 모델 1보다 Dropout을 추가한 해당 모델이 더 적절하다고 판단하였다. 추가로, test 데이터를 표준화한 후 평가한 결과 약 94.75%의 정확도를 보였다."
      ],
      "metadata": {
        "nteract": {
          "transient": {
            "deleting": false
          }
        }
      }
    },
    {
      "cell_type": "code",
      "source": [
        "scaled_test = ss.transform(x_test)"
      ],
      "outputs": [],
      "execution_count": 298,
      "metadata": {
        "jupyter": {
          "source_hidden": false,
          "outputs_hidden": false
        },
        "nteract": {
          "transient": {
            "deleting": false
          }
        },
        "gather": {
          "logged": 1667143033311
        }
      }
    },
    {
      "cell_type": "code",
      "source": [
        "model_dr.evaluate(scaled_test, y_test)"
      ],
      "outputs": [
        {
          "output_type": "stream",
          "name": "stdout",
          "text": "\r 1/11 [=>............................] - ETA: 0s - loss: 0.0437 - accuracy: 1.0000\b\b\b\b\b\b\b\b\b\b\b\b\b\b\b\b\b\b\b\b\b\b\b\b\b\b\b\b\b\b\b\b\b\b\b\b\b\b\b\b\b\b\b\b\b\b\b\b\b\b\b\b\b\b\b\b\b\b\b\b\b\b\b\b\b\b\b\b\b\b\b\b\b\b\b\b\b\b\b\b\b\b\r11/11 [==============================] - 0s 517us/step - loss: 0.2086 - accuracy: 0.9475\n"
        },
        {
          "output_type": "execute_result",
          "execution_count": 299,
          "data": {
            "text/plain": "[0.20855948328971863, 0.9475308656692505]"
          },
          "metadata": {}
        }
      ],
      "execution_count": 299,
      "metadata": {
        "jupyter": {
          "source_hidden": false,
          "outputs_hidden": false
        },
        "nteract": {
          "transient": {
            "deleting": false
          }
        },
        "gather": {
          "logged": 1667143034296
        }
      }
    },
    {
      "cell_type": "markdown",
      "source": [
        "## Randomforest\n",
        "신경망 모형과 함께 비모수적 모형이며 추가로 특성 중요도를 확인할 수 있다. 또한, 결과 해석이 쉽다는 장점이 있는 RandomForest를 사용하여 이진 분류를 해보았다."
      ],
      "metadata": {
        "nteract": {
          "transient": {
            "deleting": false
          }
        }
      }
    },
    {
      "cell_type": "markdown",
      "source": [
        "### 모델 3\r\n",
        "- 트리계열 알고리즘은 하이퍼파라미터를 튜닝하지 않고 모델을 생성하면 오버피팅이 발생하므로, 이를 방지하고자 GridSearch로 하이퍼파라미터 튜닝을 동시에 진행하며 모델을 생성하였다."
      ],
      "metadata": {
        "nteract": {
          "transient": {
            "deleting": false
          }
        }
      }
    },
    {
      "cell_type": "code",
      "source": [
        "params = { 'n_estimators' : [10, 100],\n",
        "          \"min_impurity_decrease\" : np.arange(0.0001, 0.001, 0.0001),\n",
        "           'max_depth' : [6, 8, 10, 12],\n",
        "           'min_samples_leaf' : [8, 12, 18],\n",
        "           'min_samples_split' : [8, 16, 20]\n",
        "            }\n",
        "\n",
        "gr = GridSearchCV(RandomForestClassifier(random_state = 29, n_jobs = -1), params, n_jobs = -1)\n",
        "gr.fit(scaled_train, y_train)\n",
        "\n",
        "print(f\"best_param : {gr.best_params_}\")\n",
        "print(f\"best_score : {gr.best_score_}\")"
      ],
      "outputs": [
        {
          "output_type": "stream",
          "name": "stdout",
          "text": "best_param : {'max_depth': 8, 'min_impurity_decrease': 0.0002, 'min_samples_leaf': 8, 'min_samples_split': 20, 'n_estimators': 100}\nbest_score : 0.9555555555555555\n"
        }
      ],
      "execution_count": 305,
      "metadata": {
        "jupyter": {
          "source_hidden": false,
          "outputs_hidden": false
        },
        "nteract": {
          "transient": {
            "deleting": false
          }
        },
        "gather": {
          "logged": 1667146834337
        }
      }
    },
    {
      "cell_type": "code",
      "source": [
        "# 최적의 파라미터로 모델 학습\n",
        "rf_re = RandomForestClassifier(max_depth = 8 ,min_impurity_decrease = 0.0002 \n",
        "                               ,min_samples_leaf = 8, min_samples_split = 20, n_estimators = 100,\n",
        "                              n_jobs = -1, random_state = 29)\n",
        "\n",
        "rf_re.fit(scaled_train, y_train)"
      ],
      "outputs": [
        {
          "output_type": "execute_result",
          "execution_count": 306,
          "data": {
            "text/plain": "RandomForestClassifier(max_depth=8, min_impurity_decrease=0.0002,\n                       min_samples_leaf=8, min_samples_split=20, n_jobs=-1,\n                       random_state=29)",
            "text/html": "<style>#sk-container-id-8 {color: black;background-color: white;}#sk-container-id-8 pre{padding: 0;}#sk-container-id-8 div.sk-toggleable {background-color: white;}#sk-container-id-8 label.sk-toggleable__label {cursor: pointer;display: block;width: 100%;margin-bottom: 0;padding: 0.3em;box-sizing: border-box;text-align: center;}#sk-container-id-8 label.sk-toggleable__label-arrow:before {content: \"▸\";float: left;margin-right: 0.25em;color: #696969;}#sk-container-id-8 label.sk-toggleable__label-arrow:hover:before {color: black;}#sk-container-id-8 div.sk-estimator:hover label.sk-toggleable__label-arrow:before {color: black;}#sk-container-id-8 div.sk-toggleable__content {max-height: 0;max-width: 0;overflow: hidden;text-align: left;background-color: #f0f8ff;}#sk-container-id-8 div.sk-toggleable__content pre {margin: 0.2em;color: black;border-radius: 0.25em;background-color: #f0f8ff;}#sk-container-id-8 input.sk-toggleable__control:checked~div.sk-toggleable__content {max-height: 200px;max-width: 100%;overflow: auto;}#sk-container-id-8 input.sk-toggleable__control:checked~label.sk-toggleable__label-arrow:before {content: \"▾\";}#sk-container-id-8 div.sk-estimator input.sk-toggleable__control:checked~label.sk-toggleable__label {background-color: #d4ebff;}#sk-container-id-8 div.sk-label input.sk-toggleable__control:checked~label.sk-toggleable__label {background-color: #d4ebff;}#sk-container-id-8 input.sk-hidden--visually {border: 0;clip: rect(1px 1px 1px 1px);clip: rect(1px, 1px, 1px, 1px);height: 1px;margin: -1px;overflow: hidden;padding: 0;position: absolute;width: 1px;}#sk-container-id-8 div.sk-estimator {font-family: monospace;background-color: #f0f8ff;border: 1px dotted black;border-radius: 0.25em;box-sizing: border-box;margin-bottom: 0.5em;}#sk-container-id-8 div.sk-estimator:hover {background-color: #d4ebff;}#sk-container-id-8 div.sk-parallel-item::after {content: \"\";width: 100%;border-bottom: 1px solid gray;flex-grow: 1;}#sk-container-id-8 div.sk-label:hover label.sk-toggleable__label {background-color: #d4ebff;}#sk-container-id-8 div.sk-serial::before {content: \"\";position: absolute;border-left: 1px solid gray;box-sizing: border-box;top: 0;bottom: 0;left: 50%;z-index: 0;}#sk-container-id-8 div.sk-serial {display: flex;flex-direction: column;align-items: center;background-color: white;padding-right: 0.2em;padding-left: 0.2em;position: relative;}#sk-container-id-8 div.sk-item {position: relative;z-index: 1;}#sk-container-id-8 div.sk-parallel {display: flex;align-items: stretch;justify-content: center;background-color: white;position: relative;}#sk-container-id-8 div.sk-item::before, #sk-container-id-8 div.sk-parallel-item::before {content: \"\";position: absolute;border-left: 1px solid gray;box-sizing: border-box;top: 0;bottom: 0;left: 50%;z-index: -1;}#sk-container-id-8 div.sk-parallel-item {display: flex;flex-direction: column;z-index: 1;position: relative;background-color: white;}#sk-container-id-8 div.sk-parallel-item:first-child::after {align-self: flex-end;width: 50%;}#sk-container-id-8 div.sk-parallel-item:last-child::after {align-self: flex-start;width: 50%;}#sk-container-id-8 div.sk-parallel-item:only-child::after {width: 0;}#sk-container-id-8 div.sk-dashed-wrapped {border: 1px dashed gray;margin: 0 0.4em 0.5em 0.4em;box-sizing: border-box;padding-bottom: 0.4em;background-color: white;}#sk-container-id-8 div.sk-label label {font-family: monospace;font-weight: bold;display: inline-block;line-height: 1.2em;}#sk-container-id-8 div.sk-label-container {text-align: center;}#sk-container-id-8 div.sk-container {/* jupyter's `normalize.less` sets `[hidden] { display: none; }` but bootstrap.min.css set `[hidden] { display: none !important; }` so we also need the `!important` here to be able to override the default hidden behavior on the sphinx rendered scikit-learn.org. See: https://github.com/scikit-learn/scikit-learn/issues/21755 */display: inline-block !important;position: relative;}#sk-container-id-8 div.sk-text-repr-fallback {display: none;}</style><div id=\"sk-container-id-8\" class=\"sk-top-container\"><div class=\"sk-text-repr-fallback\"><pre>RandomForestClassifier(max_depth=8, min_impurity_decrease=0.0002,\n                       min_samples_leaf=8, min_samples_split=20, n_jobs=-1,\n                       random_state=29)</pre><b>In a Jupyter environment, please rerun this cell to show the HTML representation or trust the notebook. <br />On GitHub, the HTML representation is unable to render, please try loading this page with nbviewer.org.</b></div><div class=\"sk-container\" hidden><div class=\"sk-item\"><div class=\"sk-estimator sk-toggleable\"><input class=\"sk-toggleable__control sk-hidden--visually\" id=\"sk-estimator-id-12\" type=\"checkbox\" checked><label for=\"sk-estimator-id-12\" class=\"sk-toggleable__label sk-toggleable__label-arrow\">RandomForestClassifier</label><div class=\"sk-toggleable__content\"><pre>RandomForestClassifier(max_depth=8, min_impurity_decrease=0.0002,\n                       min_samples_leaf=8, min_samples_split=20, n_jobs=-1,\n                       random_state=29)</pre></div></div></div></div></div>"
          },
          "metadata": {}
        }
      ],
      "execution_count": 306,
      "metadata": {
        "jupyter": {
          "source_hidden": false,
          "outputs_hidden": false
        },
        "nteract": {
          "transient": {
            "deleting": false
          }
        },
        "gather": {
          "logged": 1667146834651
        }
      }
    },
    {
      "cell_type": "code",
      "source": [
        "# test data 예측\r\n",
        "re_pred = rf_re.predict(scaled_test)"
      ],
      "outputs": [],
      "execution_count": 307,
      "metadata": {
        "jupyter": {
          "source_hidden": false,
          "outputs_hidden": false
        },
        "nteract": {
          "transient": {
            "deleting": false
          }
        },
        "gather": {
          "logged": 1667146834891
        }
      }
    },
    {
      "cell_type": "code",
      "source": [
        "re_accuracy = accuracy_score(y_test, re_pred)\n",
        "print(f\"{re_accuracy:.5f}\")"
      ],
      "outputs": [
        {
          "output_type": "stream",
          "name": "stdout",
          "text": "0.96605\n"
        }
      ],
      "execution_count": 308,
      "metadata": {
        "jupyter": {
          "source_hidden": false,
          "outputs_hidden": false
        },
        "nteract": {
          "transient": {
            "deleting": false
          }
        },
        "gather": {
          "logged": 1667146835107
        }
      }
    },
    {
      "cell_type": "code",
      "source": [
        "print(classification_report(y_test, re_pred))"
      ],
      "outputs": [
        {
          "output_type": "stream",
          "name": "stdout",
          "text": "              precision    recall  f1-score   support\n\n         0.0       0.95      0.87      0.91        63\n         1.0       0.97      0.99      0.98       261\n\n    accuracy                           0.97       324\n   macro avg       0.96      0.93      0.94       324\nweighted avg       0.97      0.97      0.97       324\n\n"
        }
      ],
      "execution_count": 117,
      "metadata": {
        "jupyter": {
          "source_hidden": false,
          "outputs_hidden": false
        },
        "nteract": {
          "transient": {
            "deleting": false
          }
        },
        "gather": {
          "logged": 1667129117628
        }
      }
    },
    {
      "cell_type": "markdown",
      "source": [
        "GridSearch로 하이퍼파라미터 튜닝을 한 RandomForest 모델 3의 결과 96.61%의 정확도를 보였다."
      ],
      "metadata": {
        "nteract": {
          "transient": {
            "deleting": false
          }
        }
      }
    },
    {
      "cell_type": "markdown",
      "source": [
        "### 모델 4\r\n",
        "- 앞서 모델 3에서 GridSearch로 찾은 범위로 RandomizedSearch를 이용해 하이퍼파라미터 튜닝을 했다."
      ],
      "metadata": {
        "nteract": {
          "transient": {
            "deleting": false
          }
        }
      }
    },
    {
      "cell_type": "code",
      "source": [
        "params = { 'n_estimators' : randint(10, 100),\n",
        "           'max_depth' : randint(10, 100),\n",
        "           'min_samples_leaf' : randint(1, 20),\n",
        "           'min_samples_split' : randint(2, 20),\n",
        "            \"min_impurity_decrease\" : uniform(0.0001, 0.001)\n",
        "            }\n",
        "\n",
        "rs = RandomizedSearchCV(RandomForestClassifier(random_state=29), params, n_jobs = -1, random_state = 29)\n",
        "rs.fit(scaled_train, y_train)\n",
        "print(f\"best_param : {rs.best_params_}\")\n",
        "print(f\"best_score : {rs.best_score_}\")"
      ],
      "outputs": [
        {
          "output_type": "stream",
          "name": "stdout",
          "text": "best_param : {'max_depth': 79, 'min_impurity_decrease': 0.0003419864247038851, 'min_samples_leaf': 1, 'min_samples_split': 6, 'n_estimators': 12}\nbest_score : 0.9661835748792271\n"
        }
      ],
      "execution_count": 300,
      "metadata": {
        "jupyter": {
          "source_hidden": false,
          "outputs_hidden": false
        },
        "nteract": {
          "transient": {
            "deleting": false
          }
        },
        "gather": {
          "logged": 1667146723176
        }
      }
    },
    {
      "cell_type": "code",
      "source": [
        "# 최적의 파라미터로 학습\n",
        "rf_rd = RandomForestClassifier(max_depth = 79, min_impurity_decrease = 0.0003419864247038851,\n",
        "                              min_samples_leaf = 1, min_samples_split = 6, n_estimators = 12,\n",
        "                              n_jobs = -1, random_state = 29)\n",
        "\n",
        "rf_rd.fit(scaled_train, y_train)"
      ],
      "outputs": [
        {
          "output_type": "execute_result",
          "execution_count": 301,
          "data": {
            "text/plain": "RandomForestClassifier(max_depth=79,\n                       min_impurity_decrease=0.0003419864247038851,\n                       min_samples_split=6, n_estimators=12, n_jobs=-1,\n                       random_state=29)",
            "text/html": "<style>#sk-container-id-7 {color: black;background-color: white;}#sk-container-id-7 pre{padding: 0;}#sk-container-id-7 div.sk-toggleable {background-color: white;}#sk-container-id-7 label.sk-toggleable__label {cursor: pointer;display: block;width: 100%;margin-bottom: 0;padding: 0.3em;box-sizing: border-box;text-align: center;}#sk-container-id-7 label.sk-toggleable__label-arrow:before {content: \"▸\";float: left;margin-right: 0.25em;color: #696969;}#sk-container-id-7 label.sk-toggleable__label-arrow:hover:before {color: black;}#sk-container-id-7 div.sk-estimator:hover label.sk-toggleable__label-arrow:before {color: black;}#sk-container-id-7 div.sk-toggleable__content {max-height: 0;max-width: 0;overflow: hidden;text-align: left;background-color: #f0f8ff;}#sk-container-id-7 div.sk-toggleable__content pre {margin: 0.2em;color: black;border-radius: 0.25em;background-color: #f0f8ff;}#sk-container-id-7 input.sk-toggleable__control:checked~div.sk-toggleable__content {max-height: 200px;max-width: 100%;overflow: auto;}#sk-container-id-7 input.sk-toggleable__control:checked~label.sk-toggleable__label-arrow:before {content: \"▾\";}#sk-container-id-7 div.sk-estimator input.sk-toggleable__control:checked~label.sk-toggleable__label {background-color: #d4ebff;}#sk-container-id-7 div.sk-label input.sk-toggleable__control:checked~label.sk-toggleable__label {background-color: #d4ebff;}#sk-container-id-7 input.sk-hidden--visually {border: 0;clip: rect(1px 1px 1px 1px);clip: rect(1px, 1px, 1px, 1px);height: 1px;margin: -1px;overflow: hidden;padding: 0;position: absolute;width: 1px;}#sk-container-id-7 div.sk-estimator {font-family: monospace;background-color: #f0f8ff;border: 1px dotted black;border-radius: 0.25em;box-sizing: border-box;margin-bottom: 0.5em;}#sk-container-id-7 div.sk-estimator:hover {background-color: #d4ebff;}#sk-container-id-7 div.sk-parallel-item::after {content: \"\";width: 100%;border-bottom: 1px solid gray;flex-grow: 1;}#sk-container-id-7 div.sk-label:hover label.sk-toggleable__label {background-color: #d4ebff;}#sk-container-id-7 div.sk-serial::before {content: \"\";position: absolute;border-left: 1px solid gray;box-sizing: border-box;top: 0;bottom: 0;left: 50%;z-index: 0;}#sk-container-id-7 div.sk-serial {display: flex;flex-direction: column;align-items: center;background-color: white;padding-right: 0.2em;padding-left: 0.2em;position: relative;}#sk-container-id-7 div.sk-item {position: relative;z-index: 1;}#sk-container-id-7 div.sk-parallel {display: flex;align-items: stretch;justify-content: center;background-color: white;position: relative;}#sk-container-id-7 div.sk-item::before, #sk-container-id-7 div.sk-parallel-item::before {content: \"\";position: absolute;border-left: 1px solid gray;box-sizing: border-box;top: 0;bottom: 0;left: 50%;z-index: -1;}#sk-container-id-7 div.sk-parallel-item {display: flex;flex-direction: column;z-index: 1;position: relative;background-color: white;}#sk-container-id-7 div.sk-parallel-item:first-child::after {align-self: flex-end;width: 50%;}#sk-container-id-7 div.sk-parallel-item:last-child::after {align-self: flex-start;width: 50%;}#sk-container-id-7 div.sk-parallel-item:only-child::after {width: 0;}#sk-container-id-7 div.sk-dashed-wrapped {border: 1px dashed gray;margin: 0 0.4em 0.5em 0.4em;box-sizing: border-box;padding-bottom: 0.4em;background-color: white;}#sk-container-id-7 div.sk-label label {font-family: monospace;font-weight: bold;display: inline-block;line-height: 1.2em;}#sk-container-id-7 div.sk-label-container {text-align: center;}#sk-container-id-7 div.sk-container {/* jupyter's `normalize.less` sets `[hidden] { display: none; }` but bootstrap.min.css set `[hidden] { display: none !important; }` so we also need the `!important` here to be able to override the default hidden behavior on the sphinx rendered scikit-learn.org. See: https://github.com/scikit-learn/scikit-learn/issues/21755 */display: inline-block !important;position: relative;}#sk-container-id-7 div.sk-text-repr-fallback {display: none;}</style><div id=\"sk-container-id-7\" class=\"sk-top-container\"><div class=\"sk-text-repr-fallback\"><pre>RandomForestClassifier(max_depth=79,\n                       min_impurity_decrease=0.0003419864247038851,\n                       min_samples_split=6, n_estimators=12, n_jobs=-1,\n                       random_state=29)</pre><b>In a Jupyter environment, please rerun this cell to show the HTML representation or trust the notebook. <br />On GitHub, the HTML representation is unable to render, please try loading this page with nbviewer.org.</b></div><div class=\"sk-container\" hidden><div class=\"sk-item\"><div class=\"sk-estimator sk-toggleable\"><input class=\"sk-toggleable__control sk-hidden--visually\" id=\"sk-estimator-id-11\" type=\"checkbox\" checked><label for=\"sk-estimator-id-11\" class=\"sk-toggleable__label sk-toggleable__label-arrow\">RandomForestClassifier</label><div class=\"sk-toggleable__content\"><pre>RandomForestClassifier(max_depth=79,\n                       min_impurity_decrease=0.0003419864247038851,\n                       min_samples_split=6, n_estimators=12, n_jobs=-1,\n                       random_state=29)</pre></div></div></div></div></div>"
          },
          "metadata": {}
        }
      ],
      "execution_count": 301,
      "metadata": {
        "jupyter": {
          "source_hidden": false,
          "outputs_hidden": false
        },
        "nteract": {
          "transient": {
            "deleting": false
          }
        },
        "gather": {
          "logged": 1667146725174
        }
      }
    },
    {
      "cell_type": "code",
      "source": [
        "rd_pred = rf_rd.predict(scaled_test)"
      ],
      "outputs": [],
      "execution_count": 302,
      "metadata": {
        "jupyter": {
          "source_hidden": false,
          "outputs_hidden": false
        },
        "nteract": {
          "transient": {
            "deleting": false
          }
        },
        "gather": {
          "logged": 1667146727345
        }
      }
    },
    {
      "cell_type": "code",
      "source": [
        "rd_accuracy = accuracy_score(y_test, rd_pred)\n",
        "\n",
        "print(f\"{rd_accuracy:.5f}\")"
      ],
      "outputs": [
        {
          "output_type": "stream",
          "name": "stdout",
          "text": "0.96605\n"
        }
      ],
      "execution_count": 303,
      "metadata": {
        "jupyter": {
          "source_hidden": false,
          "outputs_hidden": false
        },
        "nteract": {
          "transient": {
            "deleting": false
          }
        },
        "gather": {
          "logged": 1667146728406
        }
      }
    },
    {
      "cell_type": "code",
      "source": [
        "print(classification_report(y_test, rd_pred))"
      ],
      "outputs": [
        {
          "output_type": "stream",
          "name": "stdout",
          "text": "              precision    recall  f1-score   support\n\n         0.0       0.95      0.87      0.91        63\n         1.0       0.97      0.99      0.98       261\n\n    accuracy                           0.97       324\n   macro avg       0.96      0.93      0.94       324\nweighted avg       0.97      0.97      0.97       324\n\n"
        }
      ],
      "execution_count": 304,
      "metadata": {
        "jupyter": {
          "source_hidden": false,
          "outputs_hidden": false
        },
        "nteract": {
          "transient": {
            "deleting": false
          }
        },
        "gather": {
          "logged": 1667146730397
        }
      }
    },
    {
      "cell_type": "markdown",
      "source": [
        "RandomizedSearch로 하이퍼파라미터 튜닝을 한 학습 결과도 위 모델 3과 비슷하게 96.61%의 정확도를 갖는다."
      ],
      "metadata": {
        "nteract": {
          "transient": {
            "deleting": false
          }
        }
      }
    },
    {
      "cell_type": "code",
      "source": [
        "# 실제와 예측을 담은 데이터프레임 생성성\n",
        "res_df = pd.DataFrame({\"real\" : y_test,\n",
        "            \"re_pred\" : re_pred,\n",
        "            \"rd_pred\" : rd_pred})"
      ],
      "outputs": [],
      "execution_count": 309,
      "metadata": {
        "jupyter": {
          "source_hidden": false,
          "outputs_hidden": false
        },
        "nteract": {
          "transient": {
            "deleting": false
          }
        },
        "gather": {
          "logged": 1667146875322
        }
      }
    },
    {
      "cell_type": "code",
      "source": [
        "# 예측에 실패한 데이터 출력력\r\n",
        "res_df[res_df[\"real\"] - res_df[\"re_pred\"] != 0]"
      ],
      "outputs": [
        {
          "output_type": "execute_result",
          "execution_count": 310,
          "data": {
            "text/plain": "        real  re_pred  rd_pred\n853  0.00000  1.00000  1.00000\n26   0.00000  1.00000  1.00000\n877  0.00000  1.00000  1.00000\n500  1.00000  0.00000  1.00000\n953  0.00000  1.00000  1.00000\n506  1.00000  0.00000  1.00000\n688  1.00000  0.00000  0.00000\n843  0.00000  1.00000  1.00000\n614  0.00000  1.00000  1.00000\n1059 0.00000  1.00000  1.00000\n707  0.00000  1.00000  1.00000",
            "text/html": "<div>\n<style scoped>\n    .dataframe tbody tr th:only-of-type {\n        vertical-align: middle;\n    }\n\n    .dataframe tbody tr th {\n        vertical-align: top;\n    }\n\n    .dataframe thead th {\n        text-align: right;\n    }\n</style>\n<table border=\"1\" class=\"dataframe\">\n  <thead>\n    <tr style=\"text-align: right;\">\n      <th></th>\n      <th>real</th>\n      <th>re_pred</th>\n      <th>rd_pred</th>\n    </tr>\n  </thead>\n  <tbody>\n    <tr>\n      <th>853</th>\n      <td>0.00000</td>\n      <td>1.00000</td>\n      <td>1.00000</td>\n    </tr>\n    <tr>\n      <th>26</th>\n      <td>0.00000</td>\n      <td>1.00000</td>\n      <td>1.00000</td>\n    </tr>\n    <tr>\n      <th>877</th>\n      <td>0.00000</td>\n      <td>1.00000</td>\n      <td>1.00000</td>\n    </tr>\n    <tr>\n      <th>500</th>\n      <td>1.00000</td>\n      <td>0.00000</td>\n      <td>1.00000</td>\n    </tr>\n    <tr>\n      <th>953</th>\n      <td>0.00000</td>\n      <td>1.00000</td>\n      <td>1.00000</td>\n    </tr>\n    <tr>\n      <th>506</th>\n      <td>1.00000</td>\n      <td>0.00000</td>\n      <td>1.00000</td>\n    </tr>\n    <tr>\n      <th>688</th>\n      <td>1.00000</td>\n      <td>0.00000</td>\n      <td>0.00000</td>\n    </tr>\n    <tr>\n      <th>843</th>\n      <td>0.00000</td>\n      <td>1.00000</td>\n      <td>1.00000</td>\n    </tr>\n    <tr>\n      <th>614</th>\n      <td>0.00000</td>\n      <td>1.00000</td>\n      <td>1.00000</td>\n    </tr>\n    <tr>\n      <th>1059</th>\n      <td>0.00000</td>\n      <td>1.00000</td>\n      <td>1.00000</td>\n    </tr>\n    <tr>\n      <th>707</th>\n      <td>0.00000</td>\n      <td>1.00000</td>\n      <td>1.00000</td>\n    </tr>\n  </tbody>\n</table>\n</div>"
          },
          "metadata": {}
        },
        {
          "output_type": "stream",
          "name": "stderr",
          "text": "<frozen importlib._bootstrap>:219: RuntimeWarning: scipy._lib.messagestream.MessageStream size changed, may indicate binary incompatibility. Expected 56 from C header, got 64 from PyObject\n<frozen importlib._bootstrap>:219: RuntimeWarning: scipy._lib.messagestream.MessageStream size changed, may indicate binary incompatibility. Expected 56 from C header, got 64 from PyObject\n<frozen importlib._bootstrap>:219: RuntimeWarning: scipy._lib.messagestream.MessageStream size changed, may indicate binary incompatibility. Expected 56 from C header, got 64 from PyObject\n<frozen importlib._bootstrap>:219: RuntimeWarning: scipy._lib.messagestream.MessageStream size changed, may indicate binary incompatibility. Expected 56 from C header, got 64 from PyObject\n"
        }
      ],
      "execution_count": 310,
      "metadata": {
        "jupyter": {
          "source_hidden": false,
          "outputs_hidden": false
        },
        "nteract": {
          "transient": {
            "deleting": false
          }
        },
        "gather": {
          "logged": 1667146876421
        }
      }
    },
    {
      "cell_type": "markdown",
      "source": [
        "실제 데이터와 예측 데이터를 비교했을 때, 예측에 11개 정도 실패했으며, GridSearch를 사용한 모델 3과 RandomizedSearch를 사용한 모델 4과의 정답 개수의 차이는 1 ~ 2개 정도로 정확도가 비슷한 모델임을 알 수 있다."
      ],
      "metadata": {
        "nteract": {
          "transient": {
            "deleting": false
          }
        }
      }
    },
    {
      "cell_type": "code",
      "source": [
        "# 모델 3의 특성 중요도 상위 20개 추출\n",
        "fea_importance = rf_re.feature_importances_\n",
        "fea_importances = pd.Series(fea_importance, index = x_train.columns)\n",
        "fea_20 = fea_importances.sort_values(ascending=False)[:20]"
      ],
      "outputs": [],
      "execution_count": 125,
      "metadata": {
        "jupyter": {
          "source_hidden": false,
          "outputs_hidden": false
        },
        "nteract": {
          "transient": {
            "deleting": false
          }
        },
        "gather": {
          "logged": 1667129137667
        }
      }
    },
    {
      "cell_type": "markdown",
      "source": [
        "모델 3의 특성 중요도를 나타냈다."
      ],
      "metadata": {
        "nteract": {
          "transient": {
            "deleting": false
          }
        }
      }
    },
    {
      "cell_type": "code",
      "source": [
        "plt.figure(figsize=(7,3))\n",
        "plt.title('Feature Importances')\n",
        "sns.barplot(x=fea_20, y=fea_20.index)\n",
        "plt.show()"
      ],
      "outputs": [
        {
          "output_type": "display_data",
          "data": {
            "text/plain": "<Figure size 504x216 with 1 Axes>",
            "image/png": "[encoded data removed]"
          },
          "metadata": {
            "image/png": {
              "width": 614,
              "height": 217
            }
          }
        }
      ],
      "execution_count": 126,
      "metadata": {
        "jupyter": {
          "source_hidden": false,
          "outputs_hidden": false
        },
        "nteract": {
          "transient": {
            "deleting": false
          }
        },
        "gather": {
          "logged": 1667129140285
        }
      }
    },
    {
      "cell_type": "markdown",
      "source": [
        "RandomForest의 장점 중 하나는 특성 중요도를 눈으로 확인할 수 있다는 점인데 이를 확인해본 결과, 예측에 가장 중요하게 영향을 미친 특성은 평균 이산화탄소 배경대기 농도이며, 그다음으로 평균 지표오존, 평균 일산화탄소 순으로 영향을 미쳤다.\r\n",
        "\r\n",
        "결론적으로, 기체 상의 대기 구성 성분 중 이산화탄소, 지표오존 그리고 일산화탄소의 농도를 낮춘다면 연쇄적으로 생물다양성 증진에 큰 기여를 할 수 있을 것으로 생각한다."
      ],
      "metadata": {
        "nteract": {
          "transient": {
            "deleting": false
          }
        }
      }
    },
    {
      "cell_type": "markdown",
      "source": [
        "# Predict"
      ],
      "metadata": {
        "nteract": {
          "transient": {
            "deleting": false
          }
        }
      }
    },
    {
      "cell_type": "markdown",
      "source": [
        "## Data Download"
      ],
      "metadata": {
        "nteract": {
          "transient": {
            "deleting": false
          }
        }
      }
    },
    {
      "cell_type": "code",
      "source": [
        "# azureml-core of version 1.0.72 or higher is required\n",
        "from azureml.core import Workspace, Dataset\n",
        "\n",
        "subscription_id = '79c05eac-dadd-4fc9-be16-acdb5c068bb9'\n",
        "resource_group = 'skh-ml-rg003'\n",
        "workspace_name = 'SKH-ML-WS003'\n",
        "\n",
        "workspace = Workspace(subscription_id, resource_group, workspace_name)\n",
        "\n",
        "dataset = Dataset.get_by_name(workspace, name='pred_csv')\n",
        "dataset.download(target_path='.', overwrite=False)"
      ],
      "outputs": [
        {
          "output_type": "error",
          "ename": "UserErrorException",
          "evalue": "UserErrorException:\n\tMessage: File \"/mnt/batch/tasks/shared/LS_root/mounts/clusters/skh-ml-vm003/code/Users/SKH-ML-GRP003-USR001/pred.csv\" already exists. Set overwrite=True to overwrite it,                             or choose an empty target path.\n\tInnerException None\n\tErrorResponse \n{\n    \"error\": {\n        \"code\": \"UserError\",\n        \"message\": \"File \\\"/mnt/batch/tasks/shared/LS_root/mounts/clusters/skh-ml-vm003/code/Users/SKH-ML-GRP003-USR001/pred.csv\\\" already exists. Set overwrite=True to overwrite it,                             or choose an empty target path.\"\n    }\n}",
          "traceback": [
            "\u001b[0;31m---------------------------------------------------------------------------\u001b[0m",
            "\u001b[0;31mUserErrorException\u001b[0m                        Traceback (most recent call last)",
            "Input \u001b[0;32mIn [127]\u001b[0m, in \u001b[0;36m<cell line: 11>\u001b[0;34m()\u001b[0m\n\u001b[1;32m      8\u001b[0m workspace \u001b[38;5;241m=\u001b[39m Workspace(subscription_id, resource_group, workspace_name)\n\u001b[1;32m     10\u001b[0m dataset \u001b[38;5;241m=\u001b[39m Dataset\u001b[38;5;241m.\u001b[39mget_by_name(workspace, name\u001b[38;5;241m=\u001b[39m\u001b[38;5;124m'\u001b[39m\u001b[38;5;124mpred_csv\u001b[39m\u001b[38;5;124m'\u001b[39m)\n\u001b[0;32m---> 11\u001b[0m \u001b[43mdataset\u001b[49m\u001b[38;5;241;43m.\u001b[39;49m\u001b[43mdownload\u001b[49m\u001b[43m(\u001b[49m\u001b[43mtarget_path\u001b[49m\u001b[38;5;241;43m=\u001b[39;49m\u001b[38;5;124;43m'\u001b[39;49m\u001b[38;5;124;43m.\u001b[39;49m\u001b[38;5;124;43m'\u001b[39;49m\u001b[43m,\u001b[49m\u001b[43m \u001b[49m\u001b[43moverwrite\u001b[49m\u001b[38;5;241;43m=\u001b[39;49m\u001b[38;5;28;43;01mFalse\u001b[39;49;00m\u001b[43m)\u001b[49m\n",
            "File \u001b[0;32m/anaconda/envs/azureml_py38/lib/python3.8/site-packages/azureml/data/_loggerfactory.py:132\u001b[0m, in \u001b[0;36mtrack.<locals>.monitor.<locals>.wrapper\u001b[0;34m(*args, **kwargs)\u001b[0m\n\u001b[1;32m    130\u001b[0m \u001b[38;5;28;01mwith\u001b[39;00m _LoggerFactory\u001b[38;5;241m.\u001b[39mtrack_activity(logger, func\u001b[38;5;241m.\u001b[39m\u001b[38;5;18m__name__\u001b[39m, activity_type, custom_dimensions) \u001b[38;5;28;01mas\u001b[39;00m al:\n\u001b[1;32m    131\u001b[0m     \u001b[38;5;28;01mtry\u001b[39;00m:\n\u001b[0;32m--> 132\u001b[0m         \u001b[38;5;28;01mreturn\u001b[39;00m \u001b[43mfunc\u001b[49m\u001b[43m(\u001b[49m\u001b[38;5;241;43m*\u001b[39;49m\u001b[43margs\u001b[49m\u001b[43m,\u001b[49m\u001b[43m \u001b[49m\u001b[38;5;241;43m*\u001b[39;49m\u001b[38;5;241;43m*\u001b[39;49m\u001b[43mkwargs\u001b[49m\u001b[43m)\u001b[49m\n\u001b[1;32m    133\u001b[0m     \u001b[38;5;28;01mexcept\u001b[39;00m \u001b[38;5;167;01mException\u001b[39;00m \u001b[38;5;28;01mas\u001b[39;00m e:\n\u001b[1;32m    134\u001b[0m         \u001b[38;5;28;01mif\u001b[39;00m \u001b[38;5;28mhasattr\u001b[39m(al, \u001b[38;5;124m'\u001b[39m\u001b[38;5;124mactivity_info\u001b[39m\u001b[38;5;124m'\u001b[39m) \u001b[38;5;129;01mand\u001b[39;00m \u001b[38;5;28mhasattr\u001b[39m(e, \u001b[38;5;124m'\u001b[39m\u001b[38;5;124merror_code\u001b[39m\u001b[38;5;124m'\u001b[39m):\n",
            "File \u001b[0;32m/anaconda/envs/azureml_py38/lib/python3.8/site-packages/azureml/data/file_dataset.py:159\u001b[0m, in \u001b[0;36mFileDataset.download\u001b[0;34m(self, target_path, overwrite, ignore_not_found)\u001b[0m\n\u001b[1;32m    156\u001b[0m     \u001b[38;5;28;01mfor\u001b[39;00m p \u001b[38;5;129;01min\u001b[39;00m download_list:\n\u001b[1;32m    157\u001b[0m         \u001b[38;5;66;03m# encode p to avoid UnicodeEncodeError from os.path.exists\u001b[39;00m\n\u001b[1;32m    158\u001b[0m         \u001b[38;5;28;01mif\u001b[39;00m os\u001b[38;5;241m.\u001b[39mpath\u001b[38;5;241m.\u001b[39mexists(_encode_if_needed(p)):\n\u001b[0;32m--> 159\u001b[0m             \u001b[38;5;28;01mraise\u001b[39;00m UserErrorException(\u001b[38;5;124m'\u001b[39m\u001b[38;5;124mFile \u001b[39m\u001b[38;5;124m\"\u001b[39m\u001b[38;5;132;01m{}\u001b[39;00m\u001b[38;5;124m\"\u001b[39m\u001b[38;5;124m already exists. Set overwrite=True to overwrite it, \u001b[39m\u001b[38;5;130;01m\\\u001b[39;00m\n\u001b[1;32m    160\u001b[0m \u001b[38;5;124m                or choose an empty target path.\u001b[39m\u001b[38;5;124m'\u001b[39m\u001b[38;5;241m.\u001b[39mformat(p))\n\u001b[1;32m    161\u001b[0m \u001b[38;5;66;03m# at this point the folder was either empty or there were no collisions so we can proceed.\u001b[39;00m\n\u001b[1;32m    162\u001b[0m base_path \u001b[38;5;241m=\u001b[39m dataprep()\u001b[38;5;241m.\u001b[39mapi\u001b[38;5;241m.\u001b[39mdatasources\u001b[38;5;241m.\u001b[39mLocalFileOutput(target_path)\n",
            "\u001b[0;31mUserErrorException\u001b[0m: UserErrorException:\n\tMessage: File \"/mnt/batch/tasks/shared/LS_root/mounts/clusters/skh-ml-vm003/code/Users/SKH-ML-GRP003-USR001/pred.csv\" already exists. Set overwrite=True to overwrite it,                             or choose an empty target path.\n\tInnerException None\n\tErrorResponse \n{\n    \"error\": {\n        \"code\": \"UserError\",\n        \"message\": \"File \\\"/mnt/batch/tasks/shared/LS_root/mounts/clusters/skh-ml-vm003/code/Users/SKH-ML-GRP003-USR001/pred.csv\\\" already exists. Set overwrite=True to overwrite it,                             or choose an empty target path.\"\n    }\n}"
          ]
        }
      ],
      "execution_count": 127,
      "metadata": {
        "jupyter": {
          "source_hidden": false,
          "outputs_hidden": false
        },
        "nteract": {
          "transient": {
            "deleting": false
          }
        },
        "gather": {
          "logged": 1667179002806
        }
      }
    },
    {
      "cell_type": "markdown",
      "source": [
        "## Data Load"
      ],
      "metadata": {
        "nteract": {
          "transient": {
            "deleting": false
          }
        }
      }
    },
    {
      "cell_type": "code",
      "source": [
        "pred_test = pd.read_csv('/mnt/batch/tasks/shared/LS_root/mounts/clusters/skh-ml-vm003/code/Users/SKH-ML-GRP003-USR001/pred.csv')"
      ],
      "outputs": [],
      "execution_count": 128,
      "metadata": {
        "jupyter": {
          "source_hidden": false,
          "outputs_hidden": false
        },
        "nteract": {
          "transient": {
            "deleting": false
          }
        },
        "gather": {
          "logged": 1667129145803
        }
      }
    },
    {
      "cell_type": "markdown",
      "source": [
        "## Preprocessing"
      ],
      "metadata": {
        "nteract": {
          "transient": {
            "deleting": false
          }
        }
      }
    },
    {
      "cell_type": "code",
      "source": [
        "# '관측일자' 특성을 제거\r\n",
        "pred_test_dr = pred_test.drop(['관측일자'], axis = 1)"
      ],
      "outputs": [],
      "execution_count": 129,
      "metadata": {
        "jupyter": {
          "source_hidden": false,
          "outputs_hidden": false
        },
        "nteract": {
          "transient": {
            "deleting": false
          }
        },
        "gather": {
          "logged": 1667129147607
        }
      }
    },
    {
      "cell_type": "code",
      "source": [
        "# 결측치를 0으로 채움\r\n",
        "pred_test_dr = pred_test_dr.fillna(0)"
      ],
      "outputs": [],
      "execution_count": 130,
      "metadata": {
        "jupyter": {
          "source_hidden": false,
          "outputs_hidden": false
        },
        "nteract": {
          "transient": {
            "deleting": false
          }
        },
        "gather": {
          "logged": 1667129149737
        }
      }
    },
    {
      "cell_type": "code",
      "source": [
        "# 특성 표준화\r\n",
        "scaled_pred = ss.transform(pred_test_dr)"
      ],
      "outputs": [],
      "execution_count": 131,
      "metadata": {
        "jupyter": {
          "source_hidden": false,
          "outputs_hidden": false
        },
        "nteract": {
          "transient": {
            "deleting": false
          }
        },
        "gather": {
          "logged": 1667129149953
        }
      }
    },
    {
      "cell_type": "markdown",
      "source": [
        "## Result"
      ],
      "metadata": {
        "nteract": {
          "transient": {
            "deleting": false
          }
        }
      }
    },
    {
      "cell_type": "markdown",
      "source": [
        "GridSearch로 하이퍼파라미터 튜닝을 한 RandomForest 모델 3을 이용해 최종적으로 예측을 한다."
      ],
      "metadata": {
        "nteract": {
          "transient": {
            "deleting": false
          }
        }
      }
    },
    {
      "cell_type": "code",
      "source": [
        "# 모델 3으로 예측을 하고 이를 데이터프레임으로 생성\n",
        "pred_label = pd.DataFrame(rf_re.predict(scaled_pred),\n",
        "                        columns = [\"label\"])"
      ],
      "outputs": [],
      "execution_count": 311,
      "metadata": {
        "jupyter": {
          "source_hidden": false,
          "outputs_hidden": false
        },
        "nteract": {
          "transient": {
            "deleting": false
          }
        },
        "gather": {
          "logged": 1667147893189
        }
      }
    },
    {
      "cell_type": "code",
      "source": [
        "# 실제 데이터와 최종 예측 label을 병합\r\n",
        "result = pd.concat([pred_test, pred_label], axis = 1)"
      ],
      "outputs": [],
      "execution_count": 312,
      "metadata": {
        "jupyter": {
          "source_hidden": false,
          "outputs_hidden": false
        },
        "nteract": {
          "transient": {
            "deleting": false
          }
        },
        "gather": {
          "logged": 1667147894206
        }
      }
    },
    {
      "cell_type": "markdown",
      "source": [
        "최종 예측 결과는 다음과 같다."
      ],
      "metadata": {
        "nteract": {
          "transient": {
            "deleting": false
          }
        }
      }
    },
    {
      "cell_type": "code",
      "source": [
        "# 결과 출력\r\n",
        "result"
      ],
      "outputs": [
        {
          "output_type": "execute_result",
          "execution_count": 313,
          "data": {
            "text/plain": "        관측일자        기온  일최대자외선    평균풍속  평균지표오존농도  평균이산화화황  평균질수산화물농도  \\\n0   2023.1.1   6.10000 0.12500 1.90000 420.25696 47.50000    0.70000   \n1   2024.1.1  -5.00000 0.03200 2.10000 418.00000 36.00000    1.00000   \n2   2025.1.1  -5.00000 0.03200 2.10000 415.00000 36.00000    1.00000   \n3   2026.1.1  -5.00000 0.03200 2.10000 412.00000 36.00000    1.00000   \n4   2027.1.1  -6.45000 0.04050 2.60000 410.00000 34.70000    0.85000   \n5   2028.1.1  -7.90000 0.04900 3.10000 407.00000 33.40000    0.70000   \n6   2029.1.1  -6.45000 0.04050 2.60000 402.00000 34.70000    0.85000   \n7   2030.1.1  -7.90000 0.04900 3.10000 397.00000 33.40000    0.70000   \n8   2031.1.1  -7.90000 0.04900 3.10000 394.00000 33.40000    0.70000   \n9   2032.1.1  -5.00000 0.03200 2.10000 389.00000 36.00000    1.00000   \n10  2033.1.1  -5.00000 0.03200 2.10000 384.00000 36.00000    1.00000   \n11  2034.1.1  -5.00000 0.03200 2.10000 379.00000 36.00000    1.00000   \n12  2035.1.1  -6.45000 0.04050 2.60000 375.00000 34.70000    0.85000   \n13  2036.1.1  -7.90000 0.04900 3.10000 371.00000 33.40000    0.70000   \n14  2037.1.1  -8.51374 0.03002 2.79341 368.71054 32.62857    0.84341   \n15  2038.1.1  -8.93604 0.02798 2.83538 364.79331 32.20571    0.84110   \n16  2039.1.1  -9.35835 0.02594 2.87736 360.87608 31.78286    0.83879   \n17  2040.1.1  -9.78066 0.02389 2.91934 356.95885 31.36000    0.83648   \n18  2041.1.1 -10.20297 0.02185 2.96132 353.04162 30.93714    0.83418   \n19  2042.1.1 -10.62527 0.01981 3.00330 349.12439 30.51429    0.83187   \n20  2043.1.1 -11.04758 0.01777 3.04527 345.20715 30.09143    0.82956   \n21  2044.1.1 -11.46989 0.01573 3.08725 341.28992 29.66857    0.82725   \n22  2045.1.1 -11.89220 0.01369 3.12923 337.37269 29.24571    0.82495   \n23  2046.1.1 -12.31451 0.01165 3.17121 333.45546 28.82286    0.82264   \n24  2047.1.1 -12.73681 0.00961 3.21319 329.53823 28.40000    0.82033   \n25  2048.1.1 -13.15912 0.00757 3.25516 325.62099 27.97714    0.81802   \n26  2049.1.1 -13.58143 0.00553 3.29714 321.70376 27.55429    0.81571   \n27  2050.1.1 -14.00374 0.00349 3.33912 317.78653 27.13143    0.81341   \n\n    평균일산화탄소농도     합계강수량  Unnamed: 9   label  \n0     6.20000 266.50000         nan 1.00000  \n1     3.70000 226.86324         nan 1.00000  \n2     3.70000 213.06667         nan 1.00000  \n3     3.70000 205.85000         nan 1.00000  \n4     3.50000 198.63333         nan 1.00000  \n5     3.30000 184.20000         nan 1.00000  \n6     3.50000 198.63333         nan 1.00000  \n7     3.30000 184.20000         nan 1.00000  \n8     3.30000 184.20000         nan 1.00000  \n9     3.70000 260.25000         nan 1.00000  \n10    3.70000 213.06667         nan 0.00000  \n11    3.70000 205.85000         nan 0.00000  \n12    3.50000 198.63333         nan 0.00000  \n13    3.30000 184.20000         nan 1.00000  \n14    3.07692 190.71576         nan 0.00000  \n15    2.99099 188.29551         nan 0.00000  \n16    2.90505 185.87527         nan 0.00000  \n17    2.81912 183.45502         nan 0.00000  \n18    2.73319 181.03477         nan 0.00000  \n19    2.64725 178.61453         nan 0.00000  \n20    2.56132 176.19428         nan 0.00000  \n21    2.47538 173.77403         nan 0.00000  \n22    2.38945 171.35379         nan 0.00000  \n23    2.30352 168.93354         nan 0.00000  \n24    2.21758 166.51329         nan 0.00000  \n25    2.13165 164.09305         nan 0.00000  \n26    2.04571 161.67280         nan 0.00000  \n27    1.95978 159.25255         nan 0.00000  ",
            "text/html": "<div>\n<style scoped>\n    .dataframe tbody tr th:only-of-type {\n        vertical-align: middle;\n    }\n\n    .dataframe tbody tr th {\n        vertical-align: top;\n    }\n\n    .dataframe thead th {\n        text-align: right;\n    }\n</style>\n<table border=\"1\" class=\"dataframe\">\n  <thead>\n    <tr style=\"text-align: right;\">\n      <th></th>\n      <th>관측일자</th>\n      <th>기온</th>\n      <th>일최대자외선</th>\n      <th>평균풍속</th>\n      <th>평균지표오존농도</th>\n      <th>평균이산화화황</th>\n      <th>평균질수산화물농도</th>\n      <th>평균일산화탄소농도</th>\n      <th>합계강수량</th>\n      <th>Unnamed: 9</th>\n      <th>label</th>\n    </tr>\n  </thead>\n  <tbody>\n    <tr>\n      <th>0</th>\n      <td>2023.1.1</td>\n      <td>6.10000</td>\n      <td>0.12500</td>\n      <td>1.90000</td>\n      <td>420.25696</td>\n      <td>47.50000</td>\n      <td>0.70000</td>\n      <td>6.20000</td>\n      <td>266.50000</td>\n      <td>nan</td>\n      <td>1.00000</td>\n    </tr>\n    <tr>\n      <th>1</th>\n      <td>2024.1.1</td>\n      <td>-5.00000</td>\n      <td>0.03200</td>\n      <td>2.10000</td>\n      <td>418.00000</td>\n      <td>36.00000</td>\n      <td>1.00000</td>\n      <td>3.70000</td>\n      <td>226.86324</td>\n      <td>nan</td>\n      <td>1.00000</td>\n    </tr>\n    <tr>\n      <th>2</th>\n      <td>2025.1.1</td>\n      <td>-5.00000</td>\n      <td>0.03200</td>\n      <td>2.10000</td>\n      <td>415.00000</td>\n      <td>36.00000</td>\n      <td>1.00000</td>\n      <td>3.70000</td>\n      <td>213.06667</td>\n      <td>nan</td>\n      <td>1.00000</td>\n    </tr>\n    <tr>\n      <th>3</th>\n      <td>2026.1.1</td>\n      <td>-5.00000</td>\n      <td>0.03200</td>\n      <td>2.10000</td>\n      <td>412.00000</td>\n      <td>36.00000</td>\n      <td>1.00000</td>\n      <td>3.70000</td>\n      <td>205.85000</td>\n      <td>nan</td>\n      <td>1.00000</td>\n    </tr>\n    <tr>\n      <th>4</th>\n      <td>2027.1.1</td>\n      <td>-6.45000</td>\n      <td>0.04050</td>\n      <td>2.60000</td>\n      <td>410.00000</td>\n      <td>34.70000</td>\n      <td>0.85000</td>\n      <td>3.50000</td>\n      <td>198.63333</td>\n      <td>nan</td>\n      <td>1.00000</td>\n    </tr>\n    <tr>\n      <th>5</th>\n      <td>2028.1.1</td>\n      <td>-7.90000</td>\n      <td>0.04900</td>\n      <td>3.10000</td>\n      <td>407.00000</td>\n      <td>33.40000</td>\n      <td>0.70000</td>\n      <td>3.30000</td>\n      <td>184.20000</td>\n      <td>nan</td>\n      <td>1.00000</td>\n    </tr>\n    <tr>\n      <th>6</th>\n      <td>2029.1.1</td>\n      <td>-6.45000</td>\n      <td>0.04050</td>\n      <td>2.60000</td>\n      <td>402.00000</td>\n      <td>34.70000</td>\n      <td>0.85000</td>\n      <td>3.50000</td>\n      <td>198.63333</td>\n      <td>nan</td>\n      <td>1.00000</td>\n    </tr>\n    <tr>\n      <th>7</th>\n      <td>2030.1.1</td>\n      <td>-7.90000</td>\n      <td>0.04900</td>\n      <td>3.10000</td>\n      <td>397.00000</td>\n      <td>33.40000</td>\n      <td>0.70000</td>\n      <td>3.30000</td>\n      <td>184.20000</td>\n      <td>nan</td>\n      <td>1.00000</td>\n    </tr>\n    <tr>\n      <th>8</th>\n      <td>2031.1.1</td>\n      <td>-7.90000</td>\n      <td>0.04900</td>\n      <td>3.10000</td>\n      <td>394.00000</td>\n      <td>33.40000</td>\n      <td>0.70000</td>\n      <td>3.30000</td>\n      <td>184.20000</td>\n      <td>nan</td>\n      <td>1.00000</td>\n    </tr>\n    <tr>\n      <th>9</th>\n      <td>2032.1.1</td>\n      <td>-5.00000</td>\n      <td>0.03200</td>\n      <td>2.10000</td>\n      <td>389.00000</td>\n      <td>36.00000</td>\n      <td>1.00000</td>\n      <td>3.70000</td>\n      <td>260.25000</td>\n      <td>nan</td>\n      <td>1.00000</td>\n    </tr>\n    <tr>\n      <th>10</th>\n      <td>2033.1.1</td>\n      <td>-5.00000</td>\n      <td>0.03200</td>\n      <td>2.10000</td>\n      <td>384.00000</td>\n      <td>36.00000</td>\n      <td>1.00000</td>\n      <td>3.70000</td>\n      <td>213.06667</td>\n      <td>nan</td>\n      <td>0.00000</td>\n    </tr>\n    <tr>\n      <th>11</th>\n      <td>2034.1.1</td>\n      <td>-5.00000</td>\n      <td>0.03200</td>\n      <td>2.10000</td>\n      <td>379.00000</td>\n      <td>36.00000</td>\n      <td>1.00000</td>\n      <td>3.70000</td>\n      <td>205.85000</td>\n      <td>nan</td>\n      <td>0.00000</td>\n    </tr>\n    <tr>\n      <th>12</th>\n      <td>2035.1.1</td>\n      <td>-6.45000</td>\n      <td>0.04050</td>\n      <td>2.60000</td>\n      <td>375.00000</td>\n      <td>34.70000</td>\n      <td>0.85000</td>\n      <td>3.50000</td>\n      <td>198.63333</td>\n      <td>nan</td>\n      <td>0.00000</td>\n    </tr>\n    <tr>\n      <th>13</th>\n      <td>2036.1.1</td>\n      <td>-7.90000</td>\n      <td>0.04900</td>\n      <td>3.10000</td>\n      <td>371.00000</td>\n      <td>33.40000</td>\n      <td>0.70000</td>\n      <td>3.30000</td>\n      <td>184.20000</td>\n      <td>nan</td>\n      <td>1.00000</td>\n    </tr>\n    <tr>\n      <th>14</th>\n      <td>2037.1.1</td>\n      <td>-8.51374</td>\n      <td>0.03002</td>\n      <td>2.79341</td>\n      <td>368.71054</td>\n      <td>32.62857</td>\n      <td>0.84341</td>\n      <td>3.07692</td>\n      <td>190.71576</td>\n      <td>nan</td>\n      <td>0.00000</td>\n    </tr>\n    <tr>\n      <th>15</th>\n      <td>2038.1.1</td>\n      <td>-8.93604</td>\n      <td>0.02798</td>\n      <td>2.83538</td>\n      <td>364.79331</td>\n      <td>32.20571</td>\n      <td>0.84110</td>\n      <td>2.99099</td>\n      <td>188.29551</td>\n      <td>nan</td>\n      <td>0.00000</td>\n    </tr>\n    <tr>\n      <th>16</th>\n      <td>2039.1.1</td>\n      <td>-9.35835</td>\n      <td>0.02594</td>\n      <td>2.87736</td>\n      <td>360.87608</td>\n      <td>31.78286</td>\n      <td>0.83879</td>\n      <td>2.90505</td>\n      <td>185.87527</td>\n      <td>nan</td>\n      <td>0.00000</td>\n    </tr>\n    <tr>\n      <th>17</th>\n      <td>2040.1.1</td>\n      <td>-9.78066</td>\n      <td>0.02389</td>\n      <td>2.91934</td>\n      <td>356.95885</td>\n      <td>31.36000</td>\n      <td>0.83648</td>\n      <td>2.81912</td>\n      <td>183.45502</td>\n      <td>nan</td>\n      <td>0.00000</td>\n    </tr>\n    <tr>\n      <th>18</th>\n      <td>2041.1.1</td>\n      <td>-10.20297</td>\n      <td>0.02185</td>\n      <td>2.96132</td>\n      <td>353.04162</td>\n      <td>30.93714</td>\n      <td>0.83418</td>\n      <td>2.73319</td>\n      <td>181.03477</td>\n      <td>nan</td>\n      <td>0.00000</td>\n    </tr>\n    <tr>\n      <th>19</th>\n      <td>2042.1.1</td>\n      <td>-10.62527</td>\n      <td>0.01981</td>\n      <td>3.00330</td>\n      <td>349.12439</td>\n      <td>30.51429</td>\n      <td>0.83187</td>\n      <td>2.64725</td>\n      <td>178.61453</td>\n      <td>nan</td>\n      <td>0.00000</td>\n    </tr>\n    <tr>\n      <th>20</th>\n      <td>2043.1.1</td>\n      <td>-11.04758</td>\n      <td>0.01777</td>\n      <td>3.04527</td>\n      <td>345.20715</td>\n      <td>30.09143</td>\n      <td>0.82956</td>\n      <td>2.56132</td>\n      <td>176.19428</td>\n      <td>nan</td>\n      <td>0.00000</td>\n    </tr>\n    <tr>\n      <th>21</th>\n      <td>2044.1.1</td>\n      <td>-11.46989</td>\n      <td>0.01573</td>\n      <td>3.08725</td>\n      <td>341.28992</td>\n      <td>29.66857</td>\n      <td>0.82725</td>\n      <td>2.47538</td>\n      <td>173.77403</td>\n      <td>nan</td>\n      <td>0.00000</td>\n    </tr>\n    <tr>\n      <th>22</th>\n      <td>2045.1.1</td>\n      <td>-11.89220</td>\n      <td>0.01369</td>\n      <td>3.12923</td>\n      <td>337.37269</td>\n      <td>29.24571</td>\n      <td>0.82495</td>\n      <td>2.38945</td>\n      <td>171.35379</td>\n      <td>nan</td>\n      <td>0.00000</td>\n    </tr>\n    <tr>\n      <th>23</th>\n      <td>2046.1.1</td>\n      <td>-12.31451</td>\n      <td>0.01165</td>\n      <td>3.17121</td>\n      <td>333.45546</td>\n      <td>28.82286</td>\n      <td>0.82264</td>\n      <td>2.30352</td>\n      <td>168.93354</td>\n      <td>nan</td>\n      <td>0.00000</td>\n    </tr>\n    <tr>\n      <th>24</th>\n      <td>2047.1.1</td>\n      <td>-12.73681</td>\n      <td>0.00961</td>\n      <td>3.21319</td>\n      <td>329.53823</td>\n      <td>28.40000</td>\n      <td>0.82033</td>\n      <td>2.21758</td>\n      <td>166.51329</td>\n      <td>nan</td>\n      <td>0.00000</td>\n    </tr>\n    <tr>\n      <th>25</th>\n      <td>2048.1.1</td>\n      <td>-13.15912</td>\n      <td>0.00757</td>\n      <td>3.25516</td>\n      <td>325.62099</td>\n      <td>27.97714</td>\n      <td>0.81802</td>\n      <td>2.13165</td>\n      <td>164.09305</td>\n      <td>nan</td>\n      <td>0.00000</td>\n    </tr>\n    <tr>\n      <th>26</th>\n      <td>2049.1.1</td>\n      <td>-13.58143</td>\n      <td>0.00553</td>\n      <td>3.29714</td>\n      <td>321.70376</td>\n      <td>27.55429</td>\n      <td>0.81571</td>\n      <td>2.04571</td>\n      <td>161.67280</td>\n      <td>nan</td>\n      <td>0.00000</td>\n    </tr>\n    <tr>\n      <th>27</th>\n      <td>2050.1.1</td>\n      <td>-14.00374</td>\n      <td>0.00349</td>\n      <td>3.33912</td>\n      <td>317.78653</td>\n      <td>27.13143</td>\n      <td>0.81341</td>\n      <td>1.95978</td>\n      <td>159.25255</td>\n      <td>nan</td>\n      <td>0.00000</td>\n    </tr>\n  </tbody>\n</table>\n</div>"
          },
          "metadata": {}
        }
      ],
      "execution_count": 313,
      "metadata": {
        "jupyter": {
          "source_hidden": false,
          "outputs_hidden": false
        },
        "nteract": {
          "transient": {
            "deleting": false
          }
        },
        "gather": {
          "logged": 1667147895410
        }
      }
    },
    {
      "cell_type": "markdown",
      "source": [
        "위 데이터는 2050년까지 탄소 중립을 실시했을 경우의 기온 및 기후 환경을 예측한 것이다. 이를 모델 3에 넣고 예측한 결과, 2033년에는 1(철새화가 된 환경)에서 0(텃새)일 수 있는 환경으로 되돌아온다. 그때의 분기점(2033년)인 평균 이산화탄소 농도가 @3.7, 오존 농도가 @??정도로 감소한다면 다시 이상적인 생태계로 돌아올 것으로 예측한다.\r\n",
        "\r\n",
        "현재 우리나라는 2050년까지 탄소 중립 시행을 진행 중이며, 이에 따라 많은 기업이 탄소 중립을 위해 노력을 하고 있다. 지속해서 탄소 중립을 지킨다는 가정하에 위 분기점에서의 수치를 보이는 기후 환경이 형성되면 과거 기존의 생태계처럼 텃새였던 새가 철새가 되고, 개화 시기가 원래대로 돌아가는 등 생물다양성 증진에 크게 기여를 할 수 있을 것이다."
      ],
      "metadata": {
        "nteract": {
          "transient": {
            "deleting": false
          }
        }
      }
    }
  ],
  "metadata": {
    "kernelspec": {
      "name": "python38-azureml",
      "language": "python",
      "display_name": "Python 3.8 - AzureML"
    },
    "language_info": {
      "name": "python",
      "version": "3.8.5",
      "mimetype": "text/x-python",
      "codemirror_mode": {
        "name": "ipython",
        "version": 3
      },
      "pygments_lexer": "ipython3",
      "nbconvert_exporter": "python",
      "file_extension": ".py"
    },
    "kernel_info": {
      "name": "python38-azureml"
    },
    "nteract": {
      "version": "nteract-front-end@1.0.0"
    },
    "microsoft": {
      "host": {
        "AzureML": {
          "notebookHasBeenCompleted": true
        }
      }
    }
  },
  "nbformat": 4,
  "nbformat_minor": 2
}